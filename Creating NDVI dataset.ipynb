{
 "cells": [
  {
   "cell_type": "code",
   "execution_count": 2,
   "id": "3a8ac2c0",
   "metadata": {},
   "outputs": [],
   "source": [
    "import ee\n",
    "import geemap\n",
    "import json\n",
    "import geojson\n",
    "from IPython.display import Image\n",
    "\n",
    "import os\n",
    "import pandas as pd\n",
    "import requests\n",
    "from geemap import geojson_to_ee, ee_to_geojson"
   ]
  },
  {
   "cell_type": "code",
   "execution_count": 3,
   "id": "e9980fe6",
   "metadata": {},
   "outputs": [],
   "source": [
    "#geemap.update_package()"
   ]
  },
  {
   "cell_type": "code",
   "execution_count": 4,
   "id": "2c2554bd",
   "metadata": {},
   "outputs": [
    {
     "data": {
      "application/vnd.jupyter.widget-view+json": {
       "model_id": "f3e4606d068c4901a2efa40190ff1948",
       "version_major": 2,
       "version_minor": 0
      },
      "text/plain": [
       "Map(center=[23.834063, 89.398476], controls=(WidgetControl(options=['position', 'transparent_bg'], widget=HBox…"
      ]
     },
     "metadata": {},
     "output_type": "display_data"
    }
   ],
   "source": [
    "Map = geemap.Map(center=[23.834063, 89.398476], zoom=7)\n",
    "Map"
   ]
  },
  {
   "cell_type": "code",
   "execution_count": 5,
   "id": "1c1b13b6",
   "metadata": {},
   "outputs": [],
   "source": [
    "colorizedVis = {\n",
    "  'min': 0.0,\n",
    "  'max': 1.0,\n",
    "  'palette': [\n",
    "    'FFFFFF', 'CE7E45', 'DF923D', 'F1B555', 'FCD163', '99B718', '74A901',\n",
    "    '66A000', '529400', '3E8601', '207401', '056201', '004C00', '023B01',\n",
    "    '012E01', '011D01', '011301'\n",
    "  ],\n",
    "}"
   ]
  },
  {
   "cell_type": "code",
   "execution_count": 6,
   "id": "f9f57dee",
   "metadata": {},
   "outputs": [],
   "source": [
    "ndvi_dataset = ee.ImageCollection('LANDSAT/LC08/C01/T1_8DAY_NDVI').filterDate('2017-01-01', '2017-12-31')\n",
    "    \n",
    "ndvi_colorized = ndvi_dataset.select('NDVI')"
   ]
  },
  {
   "cell_type": "code",
   "execution_count": 7,
   "id": "8bd1a883",
   "metadata": {},
   "outputs": [],
   "source": [
    "Map.addLayer(ndvi_colorized, colorizedVis, 'NDVI');"
   ]
  },
  {
   "cell_type": "code",
   "execution_count": 8,
   "id": "ad75cf10",
   "metadata": {},
   "outputs": [],
   "source": [
    "evi_dataset = ee.ImageCollection('LANDSAT/LC08/C01/T1_8DAY_EVI').filterDate('2017-01-01', '2017-12-31')\n",
    "evi_colorized = evi_dataset.select('EVI')"
   ]
  },
  {
   "cell_type": "code",
   "execution_count": 9,
   "id": "161a8805",
   "metadata": {},
   "outputs": [],
   "source": [
    "Map.addLayer(evi_colorized, colorizedVis, 'EVI');"
   ]
  },
  {
   "cell_type": "code",
   "execution_count": 19,
   "id": "91dee574",
   "metadata": {},
   "outputs": [],
   "source": [
    "modis_dataset = ee.ImageCollection('MODIS/006/MOD13Q1').filter(ee.Filter.date('2017-01-01', '2017-12-31'))\n",
    "modis_ndvi = modis_dataset.select('NDVI');\n",
    "ndviVis = {\n",
    "  'min': 0.0,\n",
    "  'max': 8000.0,\n",
    "  'palette': [\n",
    "    'FFFFFF', 'CE7E45', 'DF923D', 'F1B555', 'FCD163', '99B718', '74A901',\n",
    "    '66A000', '529400', '3E8601', '207401', '056201', '004C00', '023B01',\n",
    "    '012E01', '011D01', '011301'\n",
    "  ],\n",
    "}\n",
    "\n",
    "Map.addLayer(modis_ndvi, ndviVis, 'modis_NDVI');"
   ]
  },
  {
   "cell_type": "code",
   "execution_count": 20,
   "id": "39190db6",
   "metadata": {},
   "outputs": [],
   "source": [
    "file_path = os.path.abspath('farmers_dropna_longlat.geojson')        \n",
    "\n",
    "with open(file_path) as f:\n",
    "    farmer_data = json.load(f)"
   ]
  },
  {
   "cell_type": "code",
   "execution_count": 21,
   "id": "5db51b75",
   "metadata": {},
   "outputs": [],
   "source": [
    "for i in range(len(farmer_data['features'])):\n",
    "    farmer_data['features'][i]['properties'] = {}"
   ]
  },
  {
   "cell_type": "code",
   "execution_count": 22,
   "id": "d593d327",
   "metadata": {},
   "outputs": [],
   "source": [
    "farmer_feature = geojson_to_ee(farmer_data)\n",
    "Map.addLayer(farmer_feature, {}, \"Farmers\")"
   ]
  },
  {
   "cell_type": "code",
   "execution_count": 23,
   "id": "d190fbe1",
   "metadata": {},
   "outputs": [
    {
     "data": {
      "text/plain": [
       "dict_keys(['type', 'features'])"
      ]
     },
     "execution_count": 23,
     "metadata": {},
     "output_type": "execute_result"
    }
   ],
   "source": [
    "farmer_data.keys()"
   ]
  },
  {
   "cell_type": "code",
   "execution_count": 24,
   "id": "42a5e2e4",
   "metadata": {},
   "outputs": [],
   "source": [
    "all_points = []\n",
    "\n",
    "for i in range(len(farmer_data['features'])):\n",
    "    all_points.append(farmer_data['features'][i]['geometry']['coordinates'])"
   ]
  },
  {
   "cell_type": "code",
   "execution_count": 25,
   "id": "48f0a9e0",
   "metadata": {},
   "outputs": [
    {
     "data": {
      "text/plain": [
       "686"
      ]
     },
     "execution_count": 25,
     "metadata": {},
     "output_type": "execute_result"
    }
   ],
   "source": [
    "len(all_points)"
   ]
  },
  {
   "cell_type": "code",
   "execution_count": 29,
   "id": "5add8da7",
   "metadata": {},
   "outputs": [
    {
     "data": {
      "text/plain": [
       "[[89.389, 25.93488],\n",
       " [89.39408, 25.93322],\n",
       " [89.39209, 25.93412],\n",
       " [89.38958, 25.93684],\n",
       " [89.38924, 25.93956],\n",
       " [89.39069, 25.9377],\n",
       " [89.39081, 25.93765],\n",
       " [89.38904, 25.94023],\n",
       " [89.39024, 25.9395],\n",
       " [89.39032, 25.93978],\n",
       " [89.37307, 25.92037],\n",
       " [89.3942, 25.93321],\n",
       " [89.3943, 25.89553],\n",
       " [89.38154, 25.88316],\n",
       " [89.38994, 25.89001]]"
      ]
     },
     "execution_count": 29,
     "metadata": {},
     "output_type": "execute_result"
    }
   ],
   "source": [
    "all_points[:15]"
   ]
  },
  {
   "cell_type": "code",
   "execution_count": 26,
   "id": "2fb93b21",
   "metadata": {},
   "outputs": [],
   "source": [
    "all_points = all_points[:95]"
   ]
  },
  {
   "cell_type": "code",
   "execution_count": 27,
   "id": "4e29da8a",
   "metadata": {},
   "outputs": [
    {
     "data": {
      "text/plain": [
       "[89.33149, 25.92864]"
      ]
     },
     "execution_count": 27,
     "metadata": {},
     "output_type": "execute_result"
    }
   ],
   "source": [
    "all_points[91]"
   ]
  },
  {
   "cell_type": "code",
   "execution_count": null,
   "id": "deed45e5",
   "metadata": {},
   "outputs": [],
   "source": []
  },
  {
   "cell_type": "code",
   "execution_count": 128,
   "id": "04c57b3c",
   "metadata": {},
   "outputs": [
    {
     "data": {
      "text/plain": [
       "{'type': 'Point', 'coordinates': [89.39408, 25.93322]}"
      ]
     },
     "execution_count": 128,
     "metadata": {},
     "output_type": "execute_result"
    }
   ],
   "source": [
    "poi = ee.Geometry.Point(all_points[1])\n",
    "poi.getInfo()"
   ]
  },
  {
   "cell_type": "code",
   "execution_count": 129,
   "id": "9a836516",
   "metadata": {},
   "outputs": [
    {
     "data": {
      "text/plain": [
       "{'type': 'Feature',\n",
       " 'geometry': {'type': 'Point', 'coordinates': [89.39408, 25.93322]},\n",
       " 'properties': {}}"
      ]
     },
     "execution_count": 129,
     "metadata": {},
     "output_type": "execute_result"
    }
   ],
   "source": [
    "poi = ee.Feature(ee.Geometry.Point(all_points[1]))\n",
    "poi.getInfo()"
   ]
  },
  {
   "cell_type": "code",
   "execution_count": 130,
   "id": "e6689c40",
   "metadata": {},
   "outputs": [],
   "source": [
    "poi_fea = []\n",
    "\n",
    "for i in range(len(all_points)):\n",
    "    poi_fea.append(ee.Feature(ee.Geometry.Point(all_points[i])))"
   ]
  },
  {
   "cell_type": "code",
   "execution_count": 131,
   "id": "134e59a6",
   "metadata": {},
   "outputs": [
    {
     "data": {
      "text/plain": [
       "ee.feature.Feature"
      ]
     },
     "execution_count": 131,
     "metadata": {},
     "output_type": "execute_result"
    }
   ],
   "source": [
    "type(poi_fea[0])"
   ]
  },
  {
   "cell_type": "code",
   "execution_count": 132,
   "id": "31aff2fa",
   "metadata": {},
   "outputs": [],
   "source": [
    "roi = ee.FeatureCollection(poi_fea)"
   ]
  },
  {
   "cell_type": "code",
   "execution_count": 133,
   "id": "ba4c7668",
   "metadata": {},
   "outputs": [
    {
     "data": {
      "text/plain": [
       "ee.featurecollection.FeatureCollection"
      ]
     },
     "execution_count": 133,
     "metadata": {},
     "output_type": "execute_result"
    }
   ],
   "source": [
    "type(roi)"
   ]
  },
  {
   "cell_type": "code",
   "execution_count": 134,
   "id": "8d1ac749",
   "metadata": {},
   "outputs": [
    {
     "name": "stdout",
     "output_type": "stream",
     "text": [
      "Computing statistics ...\n",
      "Generating URL ...\n",
      "Downloading data from https://earthengine.googleapis.com/v1alpha/projects/earthengine-legacy/tables/2eefdd4627280717d593743aa7c7a7bb-55dced5b8948cde014bd899291407e52:getFeatures\n",
      "Please wait ...\n",
      "Data downloaded to C:\\Users\\kaies\\Downloads\\95_points_ndvi_mean_2017_30.csv\n"
     ]
    }
   ],
   "source": [
    "out_dir = os.path.join(os.path.expanduser('~'), 'Downloads')\n",
    "out_dem_stats = os.path.join(out_dir, '95_points_ndvi_mean_2017_30.csv')  \n",
    "\n",
    "if not os.path.exists(out_dir):\n",
    "    os.makedirs(out_dir)\n",
    "\n",
    "# Allowed output formats: csv, shp, json, kml, kmz\n",
    "# Allowed statistics type: MEAN, MAXIMUM, MINIMUM, MEDIAN, STD, MIN_MAX, VARIANCE, SUM\n",
    "geemap.zonal_statistics(ndvi_colorized, roi, out_dem_stats, statistics_type='MEAN', scale=30)"
   ]
  },
  {
   "cell_type": "code",
   "execution_count": 24,
   "id": "db1aee16",
   "metadata": {},
   "outputs": [
    {
     "name": "stdout",
     "output_type": "stream",
     "text": [
      "Computing statistics ...\n",
      "Generating URL ...\n",
      "Downloading data from https://earthengine.googleapis.com/v1alpha/projects/earthengine-legacy/tables/be59286df57851d762213ac0d06ef925-e94219adce104d52e1597aee58842c1b:getFeatures\n",
      "Please wait ...\n",
      "Data downloaded to C:\\Users\\kaies\\Downloads\\evi_mean.csv\n"
     ]
    }
   ],
   "source": [
    "out_dir = os.path.join(os.path.expanduser('~'), 'Downloads')\n",
    "out_dem_stats = os.path.join(out_dir, 'evi_mean.csv')  \n",
    "\n",
    "if not os.path.exists(out_dir):\n",
    "    os.makedirs(out_dir)\n",
    "\n",
    "# Allowed output formats: csv, shp, json, kml, kmz\n",
    "# Allowed statistics type: MEAN, MAXIMUM, MINIMUM, MEDIAN, STD, MIN_MAX, VARIANCE, SUM\n",
    "geemap.zonal_statistics(evi_colorized, roi, out_dem_stats, statistics_type='MEAN', scale=10000)"
   ]
  },
  {
   "cell_type": "code",
   "execution_count": null,
   "id": "852fe38c",
   "metadata": {},
   "outputs": [],
   "source": []
  }
 ],
 "metadata": {
  "kernelspec": {
   "display_name": "Python 3",
   "language": "python",
   "name": "python3"
  },
  "language_info": {
   "codemirror_mode": {
    "name": "ipython",
    "version": 3
   },
   "file_extension": ".py",
   "mimetype": "text/x-python",
   "name": "python",
   "nbconvert_exporter": "python",
   "pygments_lexer": "ipython3",
   "version": "3.8.5"
  }
 },
 "nbformat": 4,
 "nbformat_minor": 5
}
