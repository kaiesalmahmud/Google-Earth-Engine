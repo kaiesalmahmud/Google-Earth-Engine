{
 "cells": [
  {
   "cell_type": "code",
   "execution_count": 107,
   "id": "df38b093",
   "metadata": {},
   "outputs": [],
   "source": [
    "import ee\n",
    "import geemap\n",
    "import json\n",
    "import geojson\n",
    "from IPython.display import Image\n",
    "\n",
    "import os\n",
    "import pandas as pd\n",
    "import requests\n",
    "from geemap import geojson_to_ee, ee_to_geojson"
   ]
  },
  {
   "cell_type": "code",
   "execution_count": 108,
   "id": "37d8eeac",
   "metadata": {},
   "outputs": [],
   "source": [
    "#geemap.update_package()"
   ]
  },
  {
   "cell_type": "code",
   "execution_count": 109,
   "id": "09440051",
   "metadata": {
    "scrolled": true
   },
   "outputs": [
    {
     "data": {
      "application/vnd.jupyter.widget-view+json": {
       "model_id": "3c481ce20a734895b01111b97b2f8606",
       "version_major": 2,
       "version_minor": 0
      },
      "text/plain": [
       "Map(center=[23.834063, 89.398476], controls=(WidgetControl(options=['position', 'transparent_bg'], widget=HBox…"
      ]
     },
     "metadata": {},
     "output_type": "display_data"
    }
   ],
   "source": [
    "Map = geemap.Map(center=[23.834063, 89.398476], zoom=7)\n",
    "Map"
   ]
  },
  {
   "cell_type": "code",
   "execution_count": 110,
   "id": "0e98e409",
   "metadata": {},
   "outputs": [],
   "source": [
    "colorizedVis = {\n",
    "  'min': 0.0,\n",
    "  'max': 1.0,\n",
    "  'palette': [\n",
    "    'FFFFFF', 'CE7E45', 'DF923D', 'F1B555', 'FCD163', '99B718', '74A901',\n",
    "    '66A000', '529400', '3E8601', '207401', '056201', '004C00', '023B01',\n",
    "    '012E01', '011D01', '011301'\n",
    "  ],\n",
    "}"
   ]
  },
  {
   "cell_type": "code",
   "execution_count": 111,
   "id": "d6fc44ca",
   "metadata": {},
   "outputs": [
    {
     "data": {
      "text/plain": [
       "'E:\\\\Deep Learning Projects\\\\Google-Earth-Engine'"
      ]
     },
     "execution_count": 111,
     "metadata": {},
     "output_type": "execute_result"
    }
   ],
   "source": [
    "os.path.abspath('')"
   ]
  },
  {
   "cell_type": "code",
   "execution_count": 112,
   "id": "3fe46aa1",
   "metadata": {},
   "outputs": [],
   "source": [
    "file_path = os.path.abspath('Jute_longlat.json')        \n",
    "\n",
    "with open(file_path) as f:\n",
    "    long_lat = json.load(f)"
   ]
  },
  {
   "cell_type": "code",
   "execution_count": 113,
   "id": "818c09cb",
   "metadata": {},
   "outputs": [
    {
     "data": {
      "text/plain": [
       "493"
      ]
     },
     "execution_count": 113,
     "metadata": {},
     "output_type": "execute_result"
    }
   ],
   "source": [
    "len(long_lat)"
   ]
  },
  {
   "cell_type": "code",
   "execution_count": 114,
   "id": "dbadd878",
   "metadata": {},
   "outputs": [],
   "source": [
    "for i in range(len(long_lat)):\n",
    "    if not (long_lat[i][0] < 93 and long_lat[i][0] > 87):\n",
    "        print(long_lat[i])"
   ]
  },
  {
   "cell_type": "code",
   "execution_count": 115,
   "id": "bb7ad1b1",
   "metadata": {},
   "outputs": [],
   "source": [
    "for i in range(len(long_lat)):\n",
    "    if not (long_lat[i][1] < 27 and long_lat[i][1] > 20):\n",
    "        print(long_lat[i])"
   ]
  },
  {
   "cell_type": "code",
   "execution_count": 116,
   "id": "514fce31",
   "metadata": {},
   "outputs": [],
   "source": [
    "points = long_lat"
   ]
  },
  {
   "cell_type": "code",
   "execution_count": 117,
   "id": "5f6d190b",
   "metadata": {},
   "outputs": [],
   "source": [
    "poi_fea = []\n",
    "\n",
    "for i in range(len(points)):\n",
    "    poi_fea.append(ee.Feature(ee.Geometry.Point(points[i])))"
   ]
  },
  {
   "cell_type": "code",
   "execution_count": 118,
   "id": "7c7a7d59",
   "metadata": {},
   "outputs": [
    {
     "data": {
      "text/plain": [
       "ee.feature.Feature"
      ]
     },
     "execution_count": 118,
     "metadata": {},
     "output_type": "execute_result"
    }
   ],
   "source": [
    "type(poi_fea[0])"
   ]
  },
  {
   "cell_type": "code",
   "execution_count": 119,
   "id": "2c4c2cc1",
   "metadata": {},
   "outputs": [
    {
     "data": {
      "text/plain": [
       "ee.featurecollection.FeatureCollection"
      ]
     },
     "execution_count": 119,
     "metadata": {},
     "output_type": "execute_result"
    }
   ],
   "source": [
    "roi = ee.FeatureCollection(poi_fea)\n",
    "type(roi)"
   ]
  },
  {
   "cell_type": "code",
   "execution_count": 120,
   "id": "a6c02e09",
   "metadata": {},
   "outputs": [],
   "source": [
    "ndvi_dataset = ee.ImageCollection('LANDSAT/LC08/C01/T1_8DAY_NDVI').filterDate('2013-01-01', '2020-12-31')\n",
    "    \n",
    "ndvi_colorized = ndvi_dataset.select('NDVI')"
   ]
  },
  {
   "cell_type": "code",
   "execution_count": 121,
   "id": "ff8dc912",
   "metadata": {},
   "outputs": [],
   "source": [
    "Map.addLayer(ndvi_colorized, colorizedVis, 'NDVI');"
   ]
  },
  {
   "cell_type": "code",
   "execution_count": 122,
   "id": "a5ddc7ae",
   "metadata": {},
   "outputs": [],
   "source": [
    "evi_dataset = ee.ImageCollection('LANDSAT/LC08/C01/T1_8DAY_EVI').filterDate('2013-01-01', '2020-12-31')\n",
    "evi_colorized = evi_dataset.select('EVI')"
   ]
  },
  {
   "cell_type": "code",
   "execution_count": 123,
   "id": "2577c003",
   "metadata": {},
   "outputs": [],
   "source": [
    "Map.addLayer(evi_colorized, colorizedVis, 'EVI');"
   ]
  },
  {
   "cell_type": "code",
   "execution_count": 124,
   "id": "7675df08",
   "metadata": {},
   "outputs": [
    {
     "data": {
      "text/plain": [
       "'E:\\\\Deep Learning Projects\\\\Google-Earth-Engine'"
      ]
     },
     "execution_count": 124,
     "metadata": {},
     "output_type": "execute_result"
    }
   ],
   "source": [
    "os.getcwd()"
   ]
  },
  {
   "cell_type": "code",
   "execution_count": 125,
   "id": "a28b3df8",
   "metadata": {},
   "outputs": [
    {
     "name": "stdout",
     "output_type": "stream",
     "text": [
      "Computing statistics ...\n",
      "Generating URL ...\n",
      "Downloading data from https://earthengine.googleapis.com/v1alpha/projects/earthengine-legacy/tables/0a4c0453852ed2fba7a3631d69d4ee8f-ec7b6817fe9f3529840ec39d3ee8ff90:getFeatures\n",
      "Please wait ...\n",
      "Data downloaded to E:\\Deep Learning Projects\\Google-Earth-Engine\\Landsat_ndvi_mean_2013-20.csv\n"
     ]
    }
   ],
   "source": [
    "out_dir = os.getcwd()\n",
    "out_dem_stats = os.path.join(out_dir, 'Landsat_ndvi_mean_2013-20.csv')  \n",
    "\n",
    "if not os.path.exists(out_dir):\n",
    "    os.makedirs(out_dir)\n",
    "\n",
    "# Allowed output formats: csv, shp, json, kml, kmz\n",
    "# Allowed statistics type: MEAN, MAXIMUM, MINIMUM, MEDIAN, STD, MIN_MAX, VARIANCE, SUM\n",
    "geemap.zonal_statistics(ndvi_colorized, roi, out_dem_stats, statistics_type='MEAN', scale=30)"
   ]
  },
  {
   "cell_type": "code",
   "execution_count": 126,
   "id": "ad9836bb",
   "metadata": {},
   "outputs": [
    {
     "name": "stdout",
     "output_type": "stream",
     "text": [
      "Computing statistics ...\n",
      "Generating URL ...\n",
      "Downloading data from https://earthengine.googleapis.com/v1alpha/projects/earthengine-legacy/tables/b53397767b0767f7cc3614e1ca111493-793afab5ebd0852089c42fce70507679:getFeatures\n",
      "Please wait ...\n",
      "Data downloaded to E:\\Deep Learning Projects\\Google-Earth-Engine\\Landsat_evi_mean_2013-20.csv\n"
     ]
    }
   ],
   "source": [
    "out_dir = os.getcwd()\n",
    "out_dem_stats = os.path.join(out_dir, 'Landsat_evi_mean_2013-20.csv')  \n",
    "\n",
    "if not os.path.exists(out_dir):\n",
    "    os.makedirs(out_dir)\n",
    "\n",
    "# Allowed output formats: csv, shp, json, kml, kmz\n",
    "# Allowed statistics type: MEAN, MAXIMUM, MINIMUM, MEDIAN, STD, MIN_MAX, VARIANCE, SUM\n",
    "geemap.zonal_statistics(evi_colorized, roi, out_dem_stats, statistics_type='MEAN', scale=30)"
   ]
  },
  {
   "cell_type": "code",
   "execution_count": 127,
   "id": "58fb420f",
   "metadata": {},
   "outputs": [],
   "source": [
    "modis_dataset = ee.ImageCollection('MODIS/006/MOD13Q1').filter(ee.Filter.date('2013-01-01', '2020-12-31'))\n",
    "modis_ndvi = modis_dataset.select('NDVI')\n",
    "ndviVis = {\n",
    "  'min': 0.0,\n",
    "  'max': 8000.0,\n",
    "  'palette': [\n",
    "    'FFFFFF', 'CE7E45', 'DF923D', 'F1B555', 'FCD163', '99B718', '74A901',\n",
    "    '66A000', '529400', '3E8601', '207401', '056201', '004C00', '023B01',\n",
    "    '012E01', '011D01', '011301'\n",
    "  ],\n",
    "}\n",
    "\n",
    "Map.addLayer(modis_ndvi, ndviVis, 'modis_NDVI')"
   ]
  },
  {
   "cell_type": "code",
   "execution_count": 128,
   "id": "bc7112b1",
   "metadata": {},
   "outputs": [
    {
     "name": "stdout",
     "output_type": "stream",
     "text": [
      "Computing statistics ...\n",
      "Generating URL ...\n",
      "Downloading data from https://earthengine.googleapis.com/v1alpha/projects/earthengine-legacy/tables/a087c7f0ea5520cf4f67ac817e83d78f-60236bc74d42fdbcf05126140524af68:getFeatures\n",
      "Please wait ...\n",
      "Data downloaded to E:\\Deep Learning Projects\\Google-Earth-Engine\\Modis_ndvi_mean_2013-20.csv\n"
     ]
    }
   ],
   "source": [
    "out_dir = os.getcwd()\n",
    "out_dem_stats = os.path.join(out_dir, 'Modis_ndvi_mean_2013-20.csv')  \n",
    "\n",
    "if not os.path.exists(out_dir):\n",
    "    os.makedirs(out_dir)\n",
    "\n",
    "# Allowed output formats: csv, shp, json, kml, kmz\n",
    "# Allowed statistics type: MEAN, MAXIMUM, MINIMUM, MEDIAN, STD, MIN_MAX, VARIANCE, SUM\n",
    "geemap.zonal_statistics(modis_ndvi, roi, out_dem_stats, statistics_type='MEAN', scale=250)"
   ]
  },
  {
   "cell_type": "code",
   "execution_count": 129,
   "id": "1b7cf975",
   "metadata": {},
   "outputs": [],
   "source": [
    "modis_dataset = ee.ImageCollection('MODIS/006/MOD13Q1').filter(ee.Filter.date('2013-01-01', '2020-12-31'))\n",
    "modis_evi = modis_dataset.select('EVI')\n",
    "ndviVis = {\n",
    "  'min': 0.0,\n",
    "  'max': 8000.0,\n",
    "  'palette': [\n",
    "    'FFFFFF', 'CE7E45', 'DF923D', 'F1B555', 'FCD163', '99B718', '74A901',\n",
    "    '66A000', '529400', '3E8601', '207401', '056201', '004C00', '023B01',\n",
    "    '012E01', '011D01', '011301'\n",
    "  ],\n",
    "}\n",
    "\n",
    "Map.addLayer(modis_evi, ndviVis, 'modis_NDVI')"
   ]
  },
  {
   "cell_type": "code",
   "execution_count": 130,
   "id": "33c94854",
   "metadata": {},
   "outputs": [
    {
     "name": "stdout",
     "output_type": "stream",
     "text": [
      "Computing statistics ...\n",
      "Generating URL ...\n",
      "Downloading data from https://earthengine.googleapis.com/v1alpha/projects/earthengine-legacy/tables/afd3573f5eb82a19badff63acaa7afe2-d1bf2387ebaffa2cbf93e92225864e22:getFeatures\n",
      "Please wait ...\n",
      "Data downloaded to E:\\Deep Learning Projects\\Google-Earth-Engine\\Modis_evi_mean_2013-20.csv\n"
     ]
    }
   ],
   "source": [
    "out_dir = os.getcwd()\n",
    "out_dem_stats = os.path.join(out_dir, 'Modis_evi_mean_2013-20.csv')  \n",
    "\n",
    "if not os.path.exists(out_dir):\n",
    "    os.makedirs(out_dir)\n",
    "\n",
    "# Allowed output formats: csv, shp, json, kml, kmz\n",
    "# Allowed statistics type: MEAN, MAXIMUM, MINIMUM, MEDIAN, STD, MIN_MAX, VARIANCE, SUM\n",
    "geemap.zonal_statistics(modis_evi, roi, out_dem_stats, statistics_type='MEAN', scale=250)"
   ]
  },
  {
   "cell_type": "code",
   "execution_count": 131,
   "id": "d0b1ee2a",
   "metadata": {},
   "outputs": [
    {
     "data": {
      "text/html": [
       "<div>\n",
       "<style scoped>\n",
       "    .dataframe tbody tr th:only-of-type {\n",
       "        vertical-align: middle;\n",
       "    }\n",
       "\n",
       "    .dataframe tbody tr th {\n",
       "        vertical-align: top;\n",
       "    }\n",
       "\n",
       "    .dataframe thead th {\n",
       "        text-align: right;\n",
       "    }\n",
       "</style>\n",
       "<table border=\"1\" class=\"dataframe\">\n",
       "  <thead>\n",
       "    <tr style=\"text-align: right;\">\n",
       "      <th></th>\n",
       "      <th>2013_01_01_NDVI</th>\n",
       "      <th>2013_01_17_NDVI</th>\n",
       "      <th>2013_02_02_NDVI</th>\n",
       "      <th>2013_02_18_NDVI</th>\n",
       "      <th>2013_03_06_NDVI</th>\n",
       "      <th>2013_03_22_NDVI</th>\n",
       "      <th>2013_04_07_NDVI</th>\n",
       "      <th>2013_04_23_NDVI</th>\n",
       "      <th>2013_05_09_NDVI</th>\n",
       "      <th>2013_05_25_NDVI</th>\n",
       "      <th>...</th>\n",
       "      <th>2020_08_12_NDVI</th>\n",
       "      <th>2020_08_28_NDVI</th>\n",
       "      <th>2020_09_13_NDVI</th>\n",
       "      <th>2020_09_29_NDVI</th>\n",
       "      <th>2020_10_15_NDVI</th>\n",
       "      <th>2020_10_31_NDVI</th>\n",
       "      <th>2020_11_16_NDVI</th>\n",
       "      <th>2020_12_02_NDVI</th>\n",
       "      <th>2020_12_18_NDVI</th>\n",
       "      <th>system:index</th>\n",
       "    </tr>\n",
       "  </thead>\n",
       "  <tbody>\n",
       "    <tr>\n",
       "      <th>0</th>\n",
       "      <td>3699.0</td>\n",
       "      <td>5702.0</td>\n",
       "      <td>6449.0</td>\n",
       "      <td>6920.0</td>\n",
       "      <td>5828.0</td>\n",
       "      <td>5527.0</td>\n",
       "      <td>4374.0</td>\n",
       "      <td>4160.0</td>\n",
       "      <td>5546.0</td>\n",
       "      <td>6311.0</td>\n",
       "      <td>...</td>\n",
       "      <td>4599.0</td>\n",
       "      <td>4070.0</td>\n",
       "      <td>6799.0</td>\n",
       "      <td>7480.0</td>\n",
       "      <td>7874.0</td>\n",
       "      <td>6691.0</td>\n",
       "      <td>5158.0</td>\n",
       "      <td>4895.0</td>\n",
       "      <td>4954.0</td>\n",
       "      <td>0</td>\n",
       "    </tr>\n",
       "    <tr>\n",
       "      <th>1</th>\n",
       "      <td>3699.0</td>\n",
       "      <td>5702.0</td>\n",
       "      <td>6449.0</td>\n",
       "      <td>6920.0</td>\n",
       "      <td>5828.0</td>\n",
       "      <td>5527.0</td>\n",
       "      <td>4374.0</td>\n",
       "      <td>4160.0</td>\n",
       "      <td>5546.0</td>\n",
       "      <td>6311.0</td>\n",
       "      <td>...</td>\n",
       "      <td>4599.0</td>\n",
       "      <td>4070.0</td>\n",
       "      <td>6799.0</td>\n",
       "      <td>7480.0</td>\n",
       "      <td>7874.0</td>\n",
       "      <td>6691.0</td>\n",
       "      <td>5158.0</td>\n",
       "      <td>4895.0</td>\n",
       "      <td>4954.0</td>\n",
       "      <td>1</td>\n",
       "    </tr>\n",
       "    <tr>\n",
       "      <th>2</th>\n",
       "      <td>4088.0</td>\n",
       "      <td>3951.0</td>\n",
       "      <td>4376.0</td>\n",
       "      <td>5242.0</td>\n",
       "      <td>3076.0</td>\n",
       "      <td>3445.0</td>\n",
       "      <td>2745.0</td>\n",
       "      <td>4048.0</td>\n",
       "      <td>3210.0</td>\n",
       "      <td>5776.0</td>\n",
       "      <td>...</td>\n",
       "      <td>4385.0</td>\n",
       "      <td>4061.0</td>\n",
       "      <td>6924.0</td>\n",
       "      <td>5988.0</td>\n",
       "      <td>6721.0</td>\n",
       "      <td>6258.0</td>\n",
       "      <td>6006.0</td>\n",
       "      <td>5765.0</td>\n",
       "      <td>5581.0</td>\n",
       "      <td>2</td>\n",
       "    </tr>\n",
       "    <tr>\n",
       "      <th>3</th>\n",
       "      <td>4144.0</td>\n",
       "      <td>5614.0</td>\n",
       "      <td>6305.0</td>\n",
       "      <td>7044.0</td>\n",
       "      <td>5709.0</td>\n",
       "      <td>5229.0</td>\n",
       "      <td>4352.0</td>\n",
       "      <td>4579.0</td>\n",
       "      <td>6096.0</td>\n",
       "      <td>7310.0</td>\n",
       "      <td>...</td>\n",
       "      <td>2542.0</td>\n",
       "      <td>8061.0</td>\n",
       "      <td>8606.0</td>\n",
       "      <td>6859.0</td>\n",
       "      <td>7576.0</td>\n",
       "      <td>5240.0</td>\n",
       "      <td>4444.0</td>\n",
       "      <td>4861.0</td>\n",
       "      <td>5113.0</td>\n",
       "      <td>3</td>\n",
       "    </tr>\n",
       "    <tr>\n",
       "      <th>4</th>\n",
       "      <td>4144.0</td>\n",
       "      <td>5614.0</td>\n",
       "      <td>6305.0</td>\n",
       "      <td>7044.0</td>\n",
       "      <td>5709.0</td>\n",
       "      <td>5229.0</td>\n",
       "      <td>4352.0</td>\n",
       "      <td>4579.0</td>\n",
       "      <td>6096.0</td>\n",
       "      <td>7310.0</td>\n",
       "      <td>...</td>\n",
       "      <td>2542.0</td>\n",
       "      <td>8061.0</td>\n",
       "      <td>8606.0</td>\n",
       "      <td>6859.0</td>\n",
       "      <td>7576.0</td>\n",
       "      <td>5240.0</td>\n",
       "      <td>4444.0</td>\n",
       "      <td>4861.0</td>\n",
       "      <td>5113.0</td>\n",
       "      <td>4</td>\n",
       "    </tr>\n",
       "  </tbody>\n",
       "</table>\n",
       "<p>5 rows × 185 columns</p>\n",
       "</div>"
      ],
      "text/plain": [
       "   2013_01_01_NDVI  2013_01_17_NDVI  2013_02_02_NDVI  2013_02_18_NDVI  \\\n",
       "0           3699.0           5702.0           6449.0           6920.0   \n",
       "1           3699.0           5702.0           6449.0           6920.0   \n",
       "2           4088.0           3951.0           4376.0           5242.0   \n",
       "3           4144.0           5614.0           6305.0           7044.0   \n",
       "4           4144.0           5614.0           6305.0           7044.0   \n",
       "\n",
       "   2013_03_06_NDVI  2013_03_22_NDVI  2013_04_07_NDVI  2013_04_23_NDVI  \\\n",
       "0           5828.0           5527.0           4374.0           4160.0   \n",
       "1           5828.0           5527.0           4374.0           4160.0   \n",
       "2           3076.0           3445.0           2745.0           4048.0   \n",
       "3           5709.0           5229.0           4352.0           4579.0   \n",
       "4           5709.0           5229.0           4352.0           4579.0   \n",
       "\n",
       "   2013_05_09_NDVI  2013_05_25_NDVI  ...  2020_08_12_NDVI  2020_08_28_NDVI  \\\n",
       "0           5546.0           6311.0  ...           4599.0           4070.0   \n",
       "1           5546.0           6311.0  ...           4599.0           4070.0   \n",
       "2           3210.0           5776.0  ...           4385.0           4061.0   \n",
       "3           6096.0           7310.0  ...           2542.0           8061.0   \n",
       "4           6096.0           7310.0  ...           2542.0           8061.0   \n",
       "\n",
       "   2020_09_13_NDVI  2020_09_29_NDVI  2020_10_15_NDVI  2020_10_31_NDVI  \\\n",
       "0           6799.0           7480.0           7874.0           6691.0   \n",
       "1           6799.0           7480.0           7874.0           6691.0   \n",
       "2           6924.0           5988.0           6721.0           6258.0   \n",
       "3           8606.0           6859.0           7576.0           5240.0   \n",
       "4           8606.0           6859.0           7576.0           5240.0   \n",
       "\n",
       "   2020_11_16_NDVI  2020_12_02_NDVI  2020_12_18_NDVI  system:index  \n",
       "0           5158.0           4895.0           4954.0             0  \n",
       "1           5158.0           4895.0           4954.0             1  \n",
       "2           6006.0           5765.0           5581.0             2  \n",
       "3           4444.0           4861.0           5113.0             3  \n",
       "4           4444.0           4861.0           5113.0             4  \n",
       "\n",
       "[5 rows x 185 columns]"
      ]
     },
     "execution_count": 131,
     "metadata": {},
     "output_type": "execute_result"
    }
   ],
   "source": [
    "modis_ndvi_df = pd.read_csv('Modis_ndvi_mean_2013-20.csv')\n",
    "modis_ndvi_df.head()"
   ]
  },
  {
   "cell_type": "code",
   "execution_count": 132,
   "id": "ae4d7758",
   "metadata": {},
   "outputs": [],
   "source": [
    "modis_ndvi_scaled = modis_ndvi_df/8000"
   ]
  },
  {
   "cell_type": "code",
   "execution_count": 133,
   "id": "a02d9844",
   "metadata": {},
   "outputs": [],
   "source": [
    "modis_ndvi_scaled.to_csv('Modis_ndvi_mean_2013-20 (Scaled).csv')"
   ]
  },
  {
   "cell_type": "code",
   "execution_count": 134,
   "id": "3be7772b",
   "metadata": {},
   "outputs": [
    {
     "data": {
      "text/html": [
       "<div>\n",
       "<style scoped>\n",
       "    .dataframe tbody tr th:only-of-type {\n",
       "        vertical-align: middle;\n",
       "    }\n",
       "\n",
       "    .dataframe tbody tr th {\n",
       "        vertical-align: top;\n",
       "    }\n",
       "\n",
       "    .dataframe thead th {\n",
       "        text-align: right;\n",
       "    }\n",
       "</style>\n",
       "<table border=\"1\" class=\"dataframe\">\n",
       "  <thead>\n",
       "    <tr style=\"text-align: right;\">\n",
       "      <th></th>\n",
       "      <th>2013_01_01_EVI</th>\n",
       "      <th>2013_01_17_EVI</th>\n",
       "      <th>2013_02_02_EVI</th>\n",
       "      <th>2013_02_18_EVI</th>\n",
       "      <th>2013_03_06_EVI</th>\n",
       "      <th>2013_03_22_EVI</th>\n",
       "      <th>2013_04_07_EVI</th>\n",
       "      <th>2013_04_23_EVI</th>\n",
       "      <th>2013_05_09_EVI</th>\n",
       "      <th>2013_05_25_EVI</th>\n",
       "      <th>...</th>\n",
       "      <th>2020_08_12_EVI</th>\n",
       "      <th>2020_08_28_EVI</th>\n",
       "      <th>2020_09_13_EVI</th>\n",
       "      <th>2020_09_29_EVI</th>\n",
       "      <th>2020_10_15_EVI</th>\n",
       "      <th>2020_10_31_EVI</th>\n",
       "      <th>2020_11_16_EVI</th>\n",
       "      <th>2020_12_02_EVI</th>\n",
       "      <th>2020_12_18_EVI</th>\n",
       "      <th>system:index</th>\n",
       "    </tr>\n",
       "  </thead>\n",
       "  <tbody>\n",
       "    <tr>\n",
       "      <th>0</th>\n",
       "      <td>2064.0</td>\n",
       "      <td>3112.0</td>\n",
       "      <td>3728.0</td>\n",
       "      <td>3713.0</td>\n",
       "      <td>3751.0</td>\n",
       "      <td>3399.0</td>\n",
       "      <td>2561.0</td>\n",
       "      <td>2491.0</td>\n",
       "      <td>3391.0</td>\n",
       "      <td>3748.0</td>\n",
       "      <td>...</td>\n",
       "      <td>2614.0</td>\n",
       "      <td>2486.0</td>\n",
       "      <td>3639.0</td>\n",
       "      <td>4753.0</td>\n",
       "      <td>4940.0</td>\n",
       "      <td>3992.0</td>\n",
       "      <td>2867.0</td>\n",
       "      <td>2671.0</td>\n",
       "      <td>2533.0</td>\n",
       "      <td>0</td>\n",
       "    </tr>\n",
       "    <tr>\n",
       "      <th>1</th>\n",
       "      <td>2064.0</td>\n",
       "      <td>3112.0</td>\n",
       "      <td>3728.0</td>\n",
       "      <td>3713.0</td>\n",
       "      <td>3751.0</td>\n",
       "      <td>3399.0</td>\n",
       "      <td>2561.0</td>\n",
       "      <td>2491.0</td>\n",
       "      <td>3391.0</td>\n",
       "      <td>3748.0</td>\n",
       "      <td>...</td>\n",
       "      <td>2614.0</td>\n",
       "      <td>2486.0</td>\n",
       "      <td>3639.0</td>\n",
       "      <td>4753.0</td>\n",
       "      <td>4940.0</td>\n",
       "      <td>3992.0</td>\n",
       "      <td>2867.0</td>\n",
       "      <td>2671.0</td>\n",
       "      <td>2533.0</td>\n",
       "      <td>1</td>\n",
       "    </tr>\n",
       "    <tr>\n",
       "      <th>2</th>\n",
       "      <td>2134.0</td>\n",
       "      <td>2012.0</td>\n",
       "      <td>2429.0</td>\n",
       "      <td>2891.0</td>\n",
       "      <td>1746.0</td>\n",
       "      <td>1993.0</td>\n",
       "      <td>1680.0</td>\n",
       "      <td>2456.0</td>\n",
       "      <td>2081.0</td>\n",
       "      <td>3643.0</td>\n",
       "      <td>...</td>\n",
       "      <td>1917.0</td>\n",
       "      <td>2566.0</td>\n",
       "      <td>3780.0</td>\n",
       "      <td>4155.0</td>\n",
       "      <td>4666.0</td>\n",
       "      <td>4081.0</td>\n",
       "      <td>3559.0</td>\n",
       "      <td>3244.0</td>\n",
       "      <td>3273.0</td>\n",
       "      <td>2</td>\n",
       "    </tr>\n",
       "    <tr>\n",
       "      <th>3</th>\n",
       "      <td>2201.0</td>\n",
       "      <td>3102.0</td>\n",
       "      <td>3713.0</td>\n",
       "      <td>4117.0</td>\n",
       "      <td>3668.0</td>\n",
       "      <td>3134.0</td>\n",
       "      <td>2685.0</td>\n",
       "      <td>3277.0</td>\n",
       "      <td>4078.0</td>\n",
       "      <td>5010.0</td>\n",
       "      <td>...</td>\n",
       "      <td>1782.0</td>\n",
       "      <td>4704.0</td>\n",
       "      <td>5777.0</td>\n",
       "      <td>3420.0</td>\n",
       "      <td>5216.0</td>\n",
       "      <td>3193.0</td>\n",
       "      <td>2170.0</td>\n",
       "      <td>2532.0</td>\n",
       "      <td>2786.0</td>\n",
       "      <td>3</td>\n",
       "    </tr>\n",
       "    <tr>\n",
       "      <th>4</th>\n",
       "      <td>2201.0</td>\n",
       "      <td>3102.0</td>\n",
       "      <td>3713.0</td>\n",
       "      <td>4117.0</td>\n",
       "      <td>3668.0</td>\n",
       "      <td>3134.0</td>\n",
       "      <td>2685.0</td>\n",
       "      <td>3277.0</td>\n",
       "      <td>4078.0</td>\n",
       "      <td>5010.0</td>\n",
       "      <td>...</td>\n",
       "      <td>1782.0</td>\n",
       "      <td>4704.0</td>\n",
       "      <td>5777.0</td>\n",
       "      <td>3420.0</td>\n",
       "      <td>5216.0</td>\n",
       "      <td>3193.0</td>\n",
       "      <td>2170.0</td>\n",
       "      <td>2532.0</td>\n",
       "      <td>2786.0</td>\n",
       "      <td>4</td>\n",
       "    </tr>\n",
       "  </tbody>\n",
       "</table>\n",
       "<p>5 rows × 185 columns</p>\n",
       "</div>"
      ],
      "text/plain": [
       "   2013_01_01_EVI  2013_01_17_EVI  2013_02_02_EVI  2013_02_18_EVI  \\\n",
       "0          2064.0          3112.0          3728.0          3713.0   \n",
       "1          2064.0          3112.0          3728.0          3713.0   \n",
       "2          2134.0          2012.0          2429.0          2891.0   \n",
       "3          2201.0          3102.0          3713.0          4117.0   \n",
       "4          2201.0          3102.0          3713.0          4117.0   \n",
       "\n",
       "   2013_03_06_EVI  2013_03_22_EVI  2013_04_07_EVI  2013_04_23_EVI  \\\n",
       "0          3751.0          3399.0          2561.0          2491.0   \n",
       "1          3751.0          3399.0          2561.0          2491.0   \n",
       "2          1746.0          1993.0          1680.0          2456.0   \n",
       "3          3668.0          3134.0          2685.0          3277.0   \n",
       "4          3668.0          3134.0          2685.0          3277.0   \n",
       "\n",
       "   2013_05_09_EVI  2013_05_25_EVI  ...  2020_08_12_EVI  2020_08_28_EVI  \\\n",
       "0          3391.0          3748.0  ...          2614.0          2486.0   \n",
       "1          3391.0          3748.0  ...          2614.0          2486.0   \n",
       "2          2081.0          3643.0  ...          1917.0          2566.0   \n",
       "3          4078.0          5010.0  ...          1782.0          4704.0   \n",
       "4          4078.0          5010.0  ...          1782.0          4704.0   \n",
       "\n",
       "   2020_09_13_EVI  2020_09_29_EVI  2020_10_15_EVI  2020_10_31_EVI  \\\n",
       "0          3639.0          4753.0          4940.0          3992.0   \n",
       "1          3639.0          4753.0          4940.0          3992.0   \n",
       "2          3780.0          4155.0          4666.0          4081.0   \n",
       "3          5777.0          3420.0          5216.0          3193.0   \n",
       "4          5777.0          3420.0          5216.0          3193.0   \n",
       "\n",
       "   2020_11_16_EVI  2020_12_02_EVI  2020_12_18_EVI  system:index  \n",
       "0          2867.0          2671.0          2533.0             0  \n",
       "1          2867.0          2671.0          2533.0             1  \n",
       "2          3559.0          3244.0          3273.0             2  \n",
       "3          2170.0          2532.0          2786.0             3  \n",
       "4          2170.0          2532.0          2786.0             4  \n",
       "\n",
       "[5 rows x 185 columns]"
      ]
     },
     "execution_count": 134,
     "metadata": {},
     "output_type": "execute_result"
    }
   ],
   "source": [
    "modis_evi_df = pd.read_csv('Modis_evi_mean_2013-20.csv')\n",
    "modis_evi_df.head()"
   ]
  },
  {
   "cell_type": "code",
   "execution_count": 135,
   "id": "09fec4c9",
   "metadata": {},
   "outputs": [],
   "source": [
    "modis_evi_scaled = modis_evi_df/8000"
   ]
  },
  {
   "cell_type": "code",
   "execution_count": 136,
   "id": "66ac89d7",
   "metadata": {},
   "outputs": [],
   "source": [
    "modis_evi_scaled.to_csv('Modis_evi_mean_2013-20 (Scaled).csv')"
   ]
  },
  {
   "cell_type": "code",
   "execution_count": null,
   "id": "1ee0c973",
   "metadata": {},
   "outputs": [],
   "source": []
  }
 ],
 "metadata": {
  "kernelspec": {
   "display_name": "Python 3",
   "language": "python",
   "name": "python3"
  },
  "language_info": {
   "codemirror_mode": {
    "name": "ipython",
    "version": 3
   },
   "file_extension": ".py",
   "mimetype": "text/x-python",
   "name": "python",
   "nbconvert_exporter": "python",
   "pygments_lexer": "ipython3",
   "version": "3.8.5"
  }
 },
 "nbformat": 4,
 "nbformat_minor": 5
}
