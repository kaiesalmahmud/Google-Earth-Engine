{
 "cells": [
  {
   "cell_type": "code",
   "execution_count": 1,
   "id": "8042682d",
   "metadata": {},
   "outputs": [],
   "source": [
    "import ee\n",
    "import geemap\n",
    "import json\n",
    "import geojson\n",
    "from IPython.display import Image\n",
    "\n",
    "import os\n",
    "import pandas as pd\n",
    "import requests\n",
    "from geemap import geojson_to_ee, ee_to_geojson\n",
    "from ipyleaflet import GeoJSON, Marker, MarkerCluster"
   ]
  },
  {
   "cell_type": "code",
   "execution_count": 2,
   "id": "48158497",
   "metadata": {},
   "outputs": [],
   "source": [
    "# geemap.update_package()"
   ]
  },
  {
   "cell_type": "code",
   "execution_count": 3,
   "id": "af0c5d04",
   "metadata": {
    "scrolled": true
   },
   "outputs": [
    {
     "data": {
      "application/vnd.jupyter.widget-view+json": {
       "model_id": "759028dca2a544de88dab85681a601ed",
       "version_major": 2,
       "version_minor": 0
      },
      "text/plain": [
       "Map(center=[23.834063, 89.398476], controls=(WidgetControl(options=['position', 'transparent_bg'], widget=HBox…"
      ]
     },
     "metadata": {},
     "output_type": "display_data"
    }
   ],
   "source": [
    "Map = geemap.Map(center=[23.834063, 89.398476], zoom=7)\n",
    "Map"
   ]
  },
  {
   "cell_type": "code",
   "execution_count": 4,
   "id": "8011d2e7",
   "metadata": {},
   "outputs": [],
   "source": [
    "vis_params = {'color': '000000ff', 'pointSize': 3, 'pointShape': 'circle', 'width': 2, 'lineType': 'solid', 'fillColor': '000000ff'}"
   ]
  },
  {
   "cell_type": "code",
   "execution_count": 5,
   "id": "510ba09e",
   "metadata": {},
   "outputs": [],
   "source": [
    "file_path = os.path.abspath('farmers_dropna_longlat.geojson')        \n",
    "\n",
    "with open(file_path) as f:\n",
    "    farmer_data = json.load(f)"
   ]
  },
  {
   "cell_type": "code",
   "execution_count": 6,
   "id": "1f0262cc",
   "metadata": {
    "scrolled": true
   },
   "outputs": [],
   "source": [
    "# farmer_feature = geojson_to_ee(farmer_data)\n",
    "# Map.addLayer(farmer_feature, {}, \"Farmers\")"
   ]
  },
  {
   "cell_type": "code",
   "execution_count": 7,
   "id": "36312233",
   "metadata": {},
   "outputs": [],
   "source": [
    "for i in range(len(farmer_data['features'])):\n",
    "    farmer_data['features'][i]['properties'] = {}"
   ]
  },
  {
   "cell_type": "code",
   "execution_count": 8,
   "id": "30b64fb5",
   "metadata": {},
   "outputs": [],
   "source": [
    "farmer_feature = geojson_to_ee(farmer_data)\n",
    "Map.addLayer(farmer_feature, {}, \"Farmers\")"
   ]
  },
  {
   "cell_type": "code",
   "execution_count": 9,
   "id": "d17f83cc",
   "metadata": {},
   "outputs": [],
   "source": [
    "maker_cluster = MarkerCluster(\n",
    "    markers=[Marker(location=feature['geometry']['coordinates'][::-1]) for feature in farmer_data['features']],\n",
    "    name = 'Markers')"
   ]
  },
  {
   "cell_type": "code",
   "execution_count": 10,
   "id": "cae24b5e",
   "metadata": {},
   "outputs": [],
   "source": [
    "Map.add_layer(maker_cluster)"
   ]
  },
  {
   "cell_type": "code",
   "execution_count": 12,
   "id": "b058cbfb",
   "metadata": {},
   "outputs": [
    {
     "data": {
      "text/plain": [
       "ee.featurecollection.FeatureCollection"
      ]
     },
     "execution_count": 12,
     "metadata": {},
     "output_type": "execute_result"
    }
   ],
   "source": [
    "type(farmer_feature)"
   ]
  },
  {
   "cell_type": "code",
   "execution_count": null,
   "id": "b19c416d",
   "metadata": {},
   "outputs": [],
   "source": []
  }
 ],
 "metadata": {
  "kernelspec": {
   "display_name": "Python 3",
   "language": "python",
   "name": "python3"
  },
  "language_info": {
   "codemirror_mode": {
    "name": "ipython",
    "version": 3
   },
   "file_extension": ".py",
   "mimetype": "text/x-python",
   "name": "python",
   "nbconvert_exporter": "python",
   "pygments_lexer": "ipython3",
   "version": "3.8.5"
  }
 },
 "nbformat": 4,
 "nbformat_minor": 5
}
