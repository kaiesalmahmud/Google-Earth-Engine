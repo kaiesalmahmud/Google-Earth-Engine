{
 "cells": [
  {
   "cell_type": "code",
   "execution_count": 2,
   "id": "8c750703",
   "metadata": {},
   "outputs": [],
   "source": [
    "import ee\n",
    "import geemap\n",
    "import json\n",
    "import geojson\n",
    "from IPython.display import Image\n",
    "\n",
    "import os\n",
    "import pandas as pd\n",
    "import requests\n",
    "from geemap import geojson_to_ee, ee_to_geojson\n",
    "from ipyleaflet import GeoJSON, Marker, MarkerCluster"
   ]
  },
  {
   "cell_type": "code",
   "execution_count": 3,
   "id": "313fe205",
   "metadata": {},
   "outputs": [
    {
     "data": {
      "application/vnd.jupyter.widget-view+json": {
       "model_id": "93e640c0a5f44deb9f8c51c9de8973f7",
       "version_major": 2,
       "version_minor": 0
      },
      "text/plain": [
       "Map(center=[23.834063, 89.398476], controls=(WidgetControl(options=['position', 'transparent_bg'], widget=HBox…"
      ]
     },
     "metadata": {},
     "output_type": "display_data"
    }
   ],
   "source": [
    "Map = geemap.Map(center=[23.834063, 89.398476], zoom=7)\n",
    "Map"
   ]
  },
  {
   "cell_type": "code",
   "execution_count": 4,
   "id": "4d03c93a",
   "metadata": {},
   "outputs": [],
   "source": [
    "polygon = ee.Geometry.Polygon([\n",
    "  [[89.395747, 23.845642],\n",
    "    [89.395747, 23.848162],\n",
    "    [89.398502, 23.848162],\n",
    "    [89.398502, 23.845642],\n",
    "    [89.395747, 23.845642]]\n",
    "])"
   ]
  },
  {
   "cell_type": "code",
   "execution_count": 5,
   "id": "7751b226",
   "metadata": {},
   "outputs": [
    {
     "data": {
      "text/plain": [
       "{'type': 'Polygon',\n",
       " 'coordinates': [[[89.395747, 23.845642],\n",
       "   [89.398502, 23.845642],\n",
       "   [89.398502, 23.848162],\n",
       "   [89.395747, 23.848162],\n",
       "   [89.395747, 23.845642]]]}"
      ]
     },
     "execution_count": 5,
     "metadata": {},
     "output_type": "execute_result"
    }
   ],
   "source": [
    "polygon.getInfo()"
   ]
  },
  {
   "cell_type": "code",
   "execution_count": 6,
   "id": "2409a485",
   "metadata": {},
   "outputs": [
    {
     "data": {
      "text/plain": [
       "ee.geometry.Geometry"
      ]
     },
     "execution_count": 6,
     "metadata": {},
     "output_type": "execute_result"
    }
   ],
   "source": [
    "type(polygon)"
   ]
  },
  {
   "cell_type": "code",
   "execution_count": 68,
   "id": "26a2a03e",
   "metadata": {},
   "outputs": [
    {
     "data": {
      "text/plain": [
       "[[[89.395747, 23.845642],\n",
       "  [89.398502, 23.845642],\n",
       "  [89.398502, 23.848162],\n",
       "  [89.395747, 23.848162],\n",
       "  [89.395747, 23.845642]]]"
      ]
     },
     "execution_count": 68,
     "metadata": {},
     "output_type": "execute_result"
    }
   ],
   "source": [
    "polygon.getInfo()['coordinates']"
   ]
  },
  {
   "cell_type": "code",
   "execution_count": 69,
   "id": "061d779b",
   "metadata": {},
   "outputs": [],
   "source": [
    "S2_SR = ee.ImageCollection('COPERNICUS/S2_SR').filterBounds(polygon).filterDate('2019-01-01', '2020-01-01')"
   ]
  },
  {
   "cell_type": "code",
   "execution_count": 72,
   "id": "dd4a131d",
   "metadata": {},
   "outputs": [],
   "source": [
    "def addNDVI(image):\n",
    "  ndvi = image.normalizedDifference(['B8', 'B4']).rename('NDVI')\n",
    "  return image.addBands(ndvi)"
   ]
  },
  {
   "cell_type": "code",
   "execution_count": 73,
   "id": "e7d39129",
   "metadata": {},
   "outputs": [],
   "source": [
    "S2_NDVI = S2_SR.map(addNDVI)"
   ]
  },
  {
   "cell_type": "code",
   "execution_count": 74,
   "id": "0f6ca206",
   "metadata": {},
   "outputs": [],
   "source": [
    "recent_S2 = ee.Image(S2_NDVI.sort('system:time_start', False).first())"
   ]
  },
  {
   "cell_type": "code",
   "execution_count": 75,
   "id": "5e36530e",
   "metadata": {},
   "outputs": [],
   "source": [
    "NDVIpalette = ['FFFFFF', 'CE7E45', 'DF923D', 'F1B555', 'FCD163', '99B718', '74A901', '66A000', '529400', '3E8601', '207401', '056201', '004C00', '023B01', '012E01', '011D01', '011301']"
   ]
  },
  {
   "cell_type": "code",
   "execution_count": 76,
   "id": "f1369cbb",
   "metadata": {},
   "outputs": [],
   "source": [
    "Map.addLayer(recent_S2.select('NDVI'), {'palette': NDVIpalette}, 'Recent Sentinel NDVI')"
   ]
  },
  {
   "cell_type": "code",
   "execution_count": 13,
   "id": "bd064ce4",
   "metadata": {},
   "outputs": [],
   "source": [
    "task = ee.batch.Export.image.toDrive(**{\n",
    "'image': recent_S2.select('NDVI'),\n",
    "'description': 'test_export',\n",
    "'scale': 5,\n",
    "'region': polygon.getInfo()['coordinates'],\n",
    "'crs':'EPSG:4326',\n",
    "'fileFormat':'GeoTIFF',\n",
    "})\n",
    "task.start()"
   ]
  },
  {
   "cell_type": "code",
   "execution_count": 14,
   "id": "e108aea4",
   "metadata": {},
   "outputs": [
    {
     "name": "stdout",
     "output_type": "stream",
     "text": [
      "Polling for task (id: ZYYOBINC5U67ZJCFS7S7ZZOG).\n",
      "Polling for task (id: ZYYOBINC5U67ZJCFS7S7ZZOG).\n",
      "Polling for task (id: ZYYOBINC5U67ZJCFS7S7ZZOG).\n",
      "Polling for task (id: ZYYOBINC5U67ZJCFS7S7ZZOG).\n",
      "Polling for task (id: ZYYOBINC5U67ZJCFS7S7ZZOG).\n",
      "Polling for task (id: ZYYOBINC5U67ZJCFS7S7ZZOG).\n",
      "Polling for task (id: ZYYOBINC5U67ZJCFS7S7ZZOG).\n",
      "Polling for task (id: ZYYOBINC5U67ZJCFS7S7ZZOG).\n",
      "Polling for task (id: ZYYOBINC5U67ZJCFS7S7ZZOG).\n",
      "Polling for task (id: ZYYOBINC5U67ZJCFS7S7ZZOG).\n",
      "Polling for task (id: ZYYOBINC5U67ZJCFS7S7ZZOG).\n",
      "Polling for task (id: ZYYOBINC5U67ZJCFS7S7ZZOG).\n",
      "Polling for task (id: ZYYOBINC5U67ZJCFS7S7ZZOG).\n"
     ]
    }
   ],
   "source": [
    "import time \n",
    "while task.active():\n",
    "  print('Polling for task (id: {}).'.format(task.id))\n",
    "  time.sleep(5)"
   ]
  }
 ],
 "metadata": {
  "kernelspec": {
   "display_name": "Python 3",
   "language": "python",
   "name": "python3"
  },
  "language_info": {
   "codemirror_mode": {
    "name": "ipython",
    "version": 3
   },
   "file_extension": ".py",
   "mimetype": "text/x-python",
   "name": "python",
   "nbconvert_exporter": "python",
   "pygments_lexer": "ipython3",
   "version": "3.8.5"
  }
 },
 "nbformat": 4,
 "nbformat_minor": 5
}
