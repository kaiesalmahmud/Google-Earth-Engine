{
 "cells": [
  {
   "cell_type": "code",
   "execution_count": 107,
   "id": "df38b093",
   "metadata": {},
   "outputs": [],
   "source": [
    "import ee\n",
    "import geemap\n",
    "import json\n",
    "import geojson\n",
    "from IPython.display import Image\n",
    "\n",
    "import os\n",
    "import pandas as pd\n",
    "import requests\n",
    "from geemap import geojson_to_ee, ee_to_geojson"
   ]
  },
  {
   "cell_type": "code",
   "execution_count": 108,
   "id": "37d8eeac",
   "metadata": {},
   "outputs": [],
   "source": [
    "#geemap.update_package()"
   ]
  },
  {
   "cell_type": "code",
   "execution_count": 109,
   "id": "09440051",
   "metadata": {
    "scrolled": true
   },
   "outputs": [
    {
     "data": {
      "application/vnd.jupyter.widget-view+json": {
       "model_id": "3c481ce20a734895b01111b97b2f8606",
       "version_major": 2,
       "version_minor": 0
      },
      "text/plain": [
       "Map(center=[23.834063, 89.398476], controls=(WidgetControl(options=['position', 'transparent_bg'], widget=HBox…"
      ]
     },
     "metadata": {},
     "output_type": "display_data"
    }
   ],
   "source": [
    "Map = geemap.Map(center=[23.834063, 89.398476], zoom=7)\n",
    "Map"
   ]
  },
  {
   "cell_type": "code",
   "execution_count": 110,
   "id": "0e98e409",
   "metadata": {},
   "outputs": [],
   "source": [
    "colorizedVis = {\n",
    "  'min': 0.0,\n",
    "  'max': 1.0,\n",
    "  'palette': [\n",
    "    'FFFFFF', 'CE7E45', 'DF923D', 'F1B555', 'FCD163', '99B718', '74A901',\n",
    "    '66A000', '529400', '3E8601', '207401', '056201', '004C00', '023B01',\n",
    "    '012E01', '011D01', '011301'\n",
    "  ],\n",
    "}"
   ]
  },
  {
   "cell_type": "code",
   "execution_count": 111,
   "id": "cfb8b4b3",
   "metadata": {},
   "outputs": [
    {
     "data": {
      "text/plain": [
       "'E:\\\\Deep Learning Projects\\\\Google-Earth-Engine'"
      ]
     },
     "execution_count": 111,
     "metadata": {},
     "output_type": "execute_result"
    }
   ],
   "source": [
    "os.path.abspath('')"
   ]
  },
  {
   "cell_type": "code",
   "execution_count": 112,
   "id": "3fe46aa1",
   "metadata": {},
   "outputs": [],
   "source": [
    "file_path = os.path.abspath('Jute_longlat.json')        \n",
    "\n",
    "with open(file_path) as f:\n",
    "    long_lat = json.load(f)"
   ]
  },
  {
   "cell_type": "code",
   "execution_count": 113,
   "id": "818c09cb",
   "metadata": {},
   "outputs": [
    {
     "data": {
      "text/plain": [
       "493"
      ]
     },
     "execution_count": 113,
     "metadata": {},
     "output_type": "execute_result"
    }
   ],
   "source": [
    "len(long_lat)"
   ]
  },
  {
   "cell_type": "code",
   "execution_count": 114,
   "id": "dbadd878",
   "metadata": {},
   "outputs": [],
   "source": [
    "for i in range(len(long_lat)):\n",
    "    if not (long_lat[i][0] < 93 and long_lat[i][0] > 87):\n",
    "        print(long_lat[i])"
   ]
  },
  {
   "cell_type": "code",
   "execution_count": 115,
   "id": "bb7ad1b1",
   "metadata": {},
   "outputs": [],
   "source": [
    "for i in range(len(long_lat)):\n",
    "    if not (long_lat[i][1] < 27 and long_lat[i][1] > 20):\n",
    "        print(long_lat[i])"
   ]
  },
  {
   "cell_type": "code",
   "execution_count": 116,
   "id": "514fce31",
   "metadata": {},
   "outputs": [],
   "source": [
    "points = long_lat"
   ]
  },
  {
   "cell_type": "code",
   "execution_count": 117,
   "id": "5f6d190b",
   "metadata": {},
   "outputs": [],
   "source": [
    "poi_fea = []\n",
    "\n",
    "for i in range(len(points)):\n",
    "    poi_fea.append(ee.Feature(ee.Geometry.Point(points[i])))"
   ]
  },
  {
   "cell_type": "code",
   "execution_count": 118,
   "id": "7c7a7d59",
   "metadata": {},
   "outputs": [
    {
     "data": {
      "text/plain": [
       "ee.feature.Feature"
      ]
     },
     "execution_count": 118,
     "metadata": {},
     "output_type": "execute_result"
    }
   ],
   "source": [
    "type(poi_fea[0])"
   ]
  },
  {
   "cell_type": "code",
   "execution_count": 119,
   "id": "2c4c2cc1",
   "metadata": {},
   "outputs": [
    {
     "data": {
      "text/plain": [
       "ee.featurecollection.FeatureCollection"
      ]
     },
     "execution_count": 119,
     "metadata": {},
     "output_type": "execute_result"
    }
   ],
   "source": [
    "roi = ee.FeatureCollection(poi_fea)\n",
    "type(roi)"
   ]
  },
  {
   "cell_type": "code",
   "execution_count": 120,
   "id": "a6c02e09",
   "metadata": {},
   "outputs": [],
   "source": [
    "ndvi_dataset = ee.ImageCollection('LANDSAT/LC08/C01/T1_8DAY_NDVI').filterDate('2013-01-01', '2020-12-31')\n",
    "    \n",
    "ndvi_colorized = ndvi_dataset.select('NDVI')"
   ]
  },
  {
   "cell_type": "code",
   "execution_count": 121,
   "id": "ff8dc912",
   "metadata": {},
   "outputs": [],
   "source": [
    "Map.addLayer(ndvi_colorized, colorizedVis, 'NDVI');"
   ]
  },
  {
   "cell_type": "code",
   "execution_count": 122,
   "id": "a5ddc7ae",
   "metadata": {},
   "outputs": [],
   "source": [
    "evi_dataset = ee.ImageCollection('LANDSAT/LC08/C01/T1_8DAY_EVI').filterDate('2013-01-01', '2020-12-31')\n",
    "evi_colorized = evi_dataset.select('EVI')"
   ]
  },
  {
   "cell_type": "code",
   "execution_count": 123,
   "id": "2577c003",
   "metadata": {},
   "outputs": [],
   "source": [
    "Map.addLayer(evi_colorized, colorizedVis, 'EVI');"
   ]
  },
  {
   "cell_type": "code",
   "execution_count": 124,
   "id": "79350ef6",
   "metadata": {},
   "outputs": [
    {
     "data": {
      "text/plain": [
       "'E:\\\\Deep Learning Projects\\\\Google-Earth-Engine'"
      ]
     },
     "execution_count": 124,
     "metadata": {},
     "output_type": "execute_result"
    }
   ],
   "source": [
    "os.getcwd()"
   ]
  },
  {
   "cell_type": "code",
   "execution_count": 125,
   "id": "a28b3df8",
   "metadata": {},
   "outputs": [
    {
     "name": "stdout",
     "output_type": "stream",
     "text": [
      "Computing statistics ...\n",
      "Generating URL ...\n",
      "Downloading data from https://earthengine.googleapis.com/v1alpha/projects/earthengine-legacy/tables/0a4c0453852ed2fba7a3631d69d4ee8f-ec7b6817fe9f3529840ec39d3ee8ff90:getFeatures\n",
      "Please wait ...\n",
      "Data downloaded to E:\\Deep Learning Projects\\Google-Earth-Engine\\Landsat_ndvi_mean_2013-20.csv\n"
     ]
    }
   ],
   "source": [
    "out_dir = os.getcwd()\n",
    "out_dem_stats = os.path.join(out_dir, 'Landsat_ndvi_mean_2013-20.csv')  \n",
    "\n",
    "if not os.path.exists(out_dir):\n",
    "    os.makedirs(out_dir)\n",
    "\n",
    "# Allowed output formats: csv, shp, json, kml, kmz\n",
    "# Allowed statistics type: MEAN, MAXIMUM, MINIMUM, MEDIAN, STD, MIN_MAX, VARIANCE, SUM\n",
    "geemap.zonal_statistics(ndvi_colorized, roi, out_dem_stats, statistics_type='MEAN', scale=30)"
   ]
  },
  {
   "cell_type": "code",
   "execution_count": null,
   "id": "ad9836bb",
   "metadata": {},
   "outputs": [
    {
     "name": "stdout",
     "output_type": "stream",
     "text": [
      "Computing statistics ...\n"
     ]
    }
   ],
   "source": [
    "out_dir = os.getcwd()\n",
    "out_dem_stats = os.path.join(out_dir, 'Landsat_evi_mean_2013-20.csv')  \n",
    "\n",
    "if not os.path.exists(out_dir):\n",
    "    os.makedirs(out_dir)\n",
    "\n",
    "# Allowed output formats: csv, shp, json, kml, kmz\n",
    "# Allowed statistics type: MEAN, MAXIMUM, MINIMUM, MEDIAN, STD, MIN_MAX, VARIANCE, SUM\n",
    "geemap.zonal_statistics(evi_colorized, roi, out_dem_stats, statistics_type='MEAN', scale=30)"
   ]
  },
  {
   "cell_type": "code",
   "execution_count": null,
   "id": "58fb420f",
   "metadata": {},
   "outputs": [],
   "source": [
    "modis_dataset = ee.ImageCollection('MODIS/006/MOD13Q1').filter(ee.Filter.date('2013-01-01', '2020-12-31'))\n",
    "modis_ndvi = modis_dataset.select('NDVI')\n",
    "ndviVis = {\n",
    "  'min': 0.0,\n",
    "  'max': 8000.0,\n",
    "  'palette': [\n",
    "    'FFFFFF', 'CE7E45', 'DF923D', 'F1B555', 'FCD163', '99B718', '74A901',\n",
    "    '66A000', '529400', '3E8601', '207401', '056201', '004C00', '023B01',\n",
    "    '012E01', '011D01', '011301'\n",
    "  ],\n",
    "}\n",
    "\n",
    "Map.addLayer(modis_ndvi, ndviVis, 'modis_NDVI')"
   ]
  },
  {
   "cell_type": "code",
   "execution_count": null,
   "id": "602718b5",
   "metadata": {},
   "outputs": [],
   "source": [
    "out_dir = os.getcwd()\n",
    "out_dem_stats = os.path.join(out_dir, 'Modis_ndvi_mean_2013-20.csv')  \n",
    "\n",
    "if not os.path.exists(out_dir):\n",
    "    os.makedirs(out_dir)\n",
    "\n",
    "# Allowed output formats: csv, shp, json, kml, kmz\n",
    "# Allowed statistics type: MEAN, MAXIMUM, MINIMUM, MEDIAN, STD, MIN_MAX, VARIANCE, SUM\n",
    "geemap.zonal_statistics(modis_ndvi, roi, out_dem_stats, statistics_type='MEAN', scale=250)"
   ]
  },
  {
   "cell_type": "code",
   "execution_count": null,
   "id": "97228073",
   "metadata": {},
   "outputs": [],
   "source": [
    "modis_dataset = ee.ImageCollection('MODIS/006/MOD13Q1').filter(ee.Filter.date('2013-01-01', '2020-12-31'))\n",
    "modis_evi = modis_dataset.select('EVI')\n",
    "ndviVis = {\n",
    "  'min': 0.0,\n",
    "  'max': 8000.0,\n",
    "  'palette': [\n",
    "    'FFFFFF', 'CE7E45', 'DF923D', 'F1B555', 'FCD163', '99B718', '74A901',\n",
    "    '66A000', '529400', '3E8601', '207401', '056201', '004C00', '023B01',\n",
    "    '012E01', '011D01', '011301'\n",
    "  ],\n",
    "}\n",
    "\n",
    "Map.addLayer(modis_evi, ndviVis, 'modis_NDVI')"
   ]
  },
  {
   "cell_type": "code",
   "execution_count": null,
   "id": "ea632a34",
   "metadata": {},
   "outputs": [],
   "source": [
    "out_dir = os.getcwd()\n",
    "out_dem_stats = os.path.join(out_dir, 'Modis_evi_mean_2013-20.csv')  \n",
    "\n",
    "if not os.path.exists(out_dir):\n",
    "    os.makedirs(out_dir)\n",
    "\n",
    "# Allowed output formats: csv, shp, json, kml, kmz\n",
    "# Allowed statistics type: MEAN, MAXIMUM, MINIMUM, MEDIAN, STD, MIN_MAX, VARIANCE, SUM\n",
    "geemap.zonal_statistics(modis_evi, roi, out_dem_stats, statistics_type='MEAN', scale=250)"
   ]
  },
  {
   "cell_type": "code",
   "execution_count": null,
   "id": "e5eca6cb",
   "metadata": {},
   "outputs": [],
   "source": [
    "modis_ndvi_df = pd.read_csv('Modis_ndvi_mean_2013-20.csv')\n",
    "modis_ndvi_df.head()"
   ]
  },
  {
   "cell_type": "code",
   "execution_count": null,
   "id": "3038cf29",
   "metadata": {},
   "outputs": [],
   "source": [
    "modis_ndvi_scaled = modis_ndvi_df/8000"
   ]
  },
  {
   "cell_type": "code",
   "execution_count": null,
   "id": "2a606759",
   "metadata": {},
   "outputs": [],
   "source": [
    "modis_ndvi_scaled.to_csv('Modis_ndvi_mean_2013-20 (Scaled).csv')"
   ]
  },
  {
   "cell_type": "code",
   "execution_count": null,
   "id": "3bad3d14",
   "metadata": {},
   "outputs": [],
   "source": [
    "modis_evi_df = pd.read_csv('Modis_evi_mean_2013-20.csv')\n",
    "modis_evi_df.head()"
   ]
  },
  {
   "cell_type": "code",
   "execution_count": null,
   "id": "afad428d",
   "metadata": {},
   "outputs": [],
   "source": [
    "modis_evi_scaled = modis_evi_df/8000"
   ]
  },
  {
   "cell_type": "code",
   "execution_count": null,
   "id": "2a8835a2",
   "metadata": {},
   "outputs": [],
   "source": [
    "modis_evi_scaled.to_csv('Modis_evi_mean_2013-20 (Scaled).csv')"
   ]
  },
  {
   "cell_type": "code",
   "execution_count": null,
   "id": "fea75c5f",
   "metadata": {},
   "outputs": [],
   "source": []
  }
 ],
 "metadata": {
  "kernelspec": {
   "display_name": "Python 3",
   "language": "python",
   "name": "python3"
  },
  "language_info": {
   "codemirror_mode": {
    "name": "ipython",
    "version": 3
   },
   "file_extension": ".py",
   "mimetype": "text/x-python",
   "name": "python",
   "nbconvert_exporter": "python",
   "pygments_lexer": "ipython3",
   "version": "3.8.5"
  }
 },
 "nbformat": 4,
 "nbformat_minor": 5
}
