{
 "cells": [
  {
   "cell_type": "code",
   "execution_count": 1,
   "id": "1d6b737f",
   "metadata": {},
   "outputs": [],
   "source": [
    "import ee\n",
    "import geemap\n",
    "import json\n",
    "import geojson\n",
    "from IPython.display import Image\n",
    "\n",
    "import os\n",
    "import pandas as pd\n",
    "import requests\n",
    "from geemap import geojson_to_ee, ee_to_geojson"
   ]
  },
  {
   "cell_type": "code",
   "execution_count": 2,
   "id": "6d954a58",
   "metadata": {},
   "outputs": [],
   "source": [
    "#geemap.update_package()"
   ]
  },
  {
   "cell_type": "code",
   "execution_count": 3,
   "id": "c47b7c01",
   "metadata": {},
   "outputs": [
    {
     "data": {
      "application/vnd.jupyter.widget-view+json": {
       "model_id": "425cdfb3031a4bc89b089b471ff4aedc",
       "version_major": 2,
       "version_minor": 0
      },
      "text/plain": [
       "Map(center=[23.834063, 89.398476], controls=(WidgetControl(options=['position', 'transparent_bg'], widget=HBox…"
      ]
     },
     "metadata": {},
     "output_type": "display_data"
    }
   ],
   "source": [
    "Map = geemap.Map(center=[23.834063, 89.398476], zoom=7)\n",
    "Map"
   ]
  },
  {
   "cell_type": "code",
   "execution_count": 4,
   "id": "eae85456",
   "metadata": {},
   "outputs": [],
   "source": [
    "colorizedVis = {\n",
    "  'min': 0.0,\n",
    "  'max': 1.0,\n",
    "  'palette': [\n",
    "    'FFFFFF', 'CE7E45', 'DF923D', 'F1B555', 'FCD163', '99B718', '74A901',\n",
    "    '66A000', '529400', '3E8601', '207401', '056201', '004C00', '023B01',\n",
    "    '012E01', '011D01', '011301'\n",
    "  ],\n",
    "}"
   ]
  },
  {
   "cell_type": "code",
   "execution_count": 5,
   "id": "e4d1cc69",
   "metadata": {},
   "outputs": [],
   "source": [
    "ndvi_dataset = ee.ImageCollection('LANDSAT/LC08/C01/T1_8DAY_NDVI').filterDate('2017-01-01', '2017-12-31')\n",
    "    \n",
    "ndvi_colorized = ndvi_dataset.select('NDVI')"
   ]
  },
  {
   "cell_type": "code",
   "execution_count": 6,
   "id": "c555a7f9",
   "metadata": {},
   "outputs": [],
   "source": [
    "Map.addLayer(ndvi_colorized, colorizedVis, 'NDVI');"
   ]
  },
  {
   "cell_type": "code",
   "execution_count": 7,
   "id": "100e33ca",
   "metadata": {},
   "outputs": [],
   "source": [
    "evi_dataset = ee.ImageCollection('LANDSAT/LC08/C01/T1_8DAY_EVI').filterDate('2017-01-01', '2017-12-31')\n",
    "evi_colorized = evi_dataset.select('EVI')"
   ]
  },
  {
   "cell_type": "code",
   "execution_count": 8,
   "id": "9997748c",
   "metadata": {},
   "outputs": [],
   "source": [
    "Map.addLayer(evi_colorized, colorizedVis, 'EVI');"
   ]
  },
  {
   "cell_type": "code",
   "execution_count": 10,
   "id": "90e9524a",
   "metadata": {},
   "outputs": [],
   "source": [
    "file_path = os.path.abspath('Jute_lat_long.json')        \n",
    "\n",
    "with open(file_path) as f:\n",
    "    lat_long = json.load(f)"
   ]
  },
  {
   "cell_type": "code",
   "execution_count": 148,
   "id": "398f01c4",
   "metadata": {},
   "outputs": [
    {
     "data": {
      "text/plain": [
       "506"
      ]
     },
     "execution_count": 148,
     "metadata": {},
     "output_type": "execute_result"
    }
   ],
   "source": [
    "len(lat_long)"
   ]
  },
  {
   "cell_type": "code",
   "execution_count": 213,
   "id": "966ae8e0",
   "metadata": {},
   "outputs": [],
   "source": [
    "lat = []\n",
    "\n",
    "for i in range(len(lat_long)):\n",
    "    lat.append(lat_long[i]['lat'])"
   ]
  },
  {
   "cell_type": "code",
   "execution_count": 214,
   "id": "242dbd34",
   "metadata": {},
   "outputs": [],
   "source": [
    "long = []\n",
    "\n",
    "for i in range(len(lat_long)):\n",
    "    long.append(lat_long[i]['long'])"
   ]
  },
  {
   "cell_type": "code",
   "execution_count": 215,
   "id": "77e9fcae",
   "metadata": {},
   "outputs": [],
   "source": [
    "_long_lat = zip(long, lat)"
   ]
  },
  {
   "cell_type": "code",
   "execution_count": 216,
   "id": "a5290db7",
   "metadata": {},
   "outputs": [],
   "source": [
    "long_lat = list(_long_lat)"
   ]
  },
  {
   "cell_type": "code",
   "execution_count": 217,
   "id": "7489b5b7",
   "metadata": {},
   "outputs": [
    {
     "data": {
      "text/plain": [
       "506"
      ]
     },
     "execution_count": 217,
     "metadata": {},
     "output_type": "execute_result"
    }
   ],
   "source": [
    "len(long_lat)"
   ]
  },
  {
   "cell_type": "code",
   "execution_count": 218,
   "id": "2e7873b7",
   "metadata": {},
   "outputs": [
    {
     "data": {
      "text/plain": [
       "[18.5, 17.5]"
      ]
     },
     "execution_count": 218,
     "metadata": {},
     "output_type": "execute_result"
    }
   ],
   "source": [
    "list(long_lat[0])"
   ]
  },
  {
   "cell_type": "code",
   "execution_count": 219,
   "id": "50e34af7",
   "metadata": {},
   "outputs": [
    {
     "name": "stdout",
     "output_type": "stream",
     "text": [
      "0\n",
      "1\n",
      "2\n",
      "3\n"
     ]
    }
   ],
   "source": [
    "for i in range(5):\n",
    "    print(i)\n",
    "    \n",
    "    if i==3:\n",
    "        break"
   ]
  },
  {
   "cell_type": "code",
   "execution_count": 220,
   "id": "37088523",
   "metadata": {},
   "outputs": [
    {
     "data": {
      "text/plain": [
       "3"
      ]
     },
     "execution_count": 220,
     "metadata": {},
     "output_type": "execute_result"
    }
   ],
   "source": [
    "i"
   ]
  },
  {
   "cell_type": "code",
   "execution_count": 221,
   "id": "88f52115",
   "metadata": {},
   "outputs": [],
   "source": [
    "for i in range(len(long_lat)):\n",
    "    if i == len(long_lat):\n",
    "        break\n",
    "    \n",
    "    if not (long_lat[i][0] < 93 and long_lat[i][0] > 87):\n",
    "        del long_lat[i]"
   ]
  },
  {
   "cell_type": "code",
   "execution_count": 222,
   "id": "ad114195",
   "metadata": {},
   "outputs": [
    {
     "data": {
      "text/plain": [
       "489"
      ]
     },
     "execution_count": 222,
     "metadata": {},
     "output_type": "execute_result"
    }
   ],
   "source": [
    "len(long_lat)"
   ]
  },
  {
   "cell_type": "code",
   "execution_count": 223,
   "id": "9297ee94",
   "metadata": {},
   "outputs": [
    {
     "data": {
      "text/plain": [
       "489"
      ]
     },
     "execution_count": 223,
     "metadata": {},
     "output_type": "execute_result"
    }
   ],
   "source": [
    "i"
   ]
  },
  {
   "cell_type": "code",
   "execution_count": 224,
   "id": "89600dc0",
   "metadata": {},
   "outputs": [],
   "source": [
    "for i in range(len(long_lat)):\n",
    "    if i == len(long_lat):\n",
    "        break    \n",
    "    \n",
    "    if not (long_lat[i][1] < 27 and long_lat[i][1] > 20):\n",
    "        del long_lat[i]"
   ]
  },
  {
   "cell_type": "code",
   "execution_count": 225,
   "id": "9c8004fa",
   "metadata": {},
   "outputs": [
    {
     "data": {
      "text/plain": [
       "482"
      ]
     },
     "execution_count": 225,
     "metadata": {},
     "output_type": "execute_result"
    }
   ],
   "source": [
    "len(long_lat)"
   ]
  },
  {
   "cell_type": "code",
   "execution_count": 226,
   "id": "4a1ef3a4",
   "metadata": {},
   "outputs": [
    {
     "data": {
      "text/plain": [
       "482"
      ]
     },
     "execution_count": 226,
     "metadata": {},
     "output_type": "execute_result"
    }
   ],
   "source": [
    "i"
   ]
  },
  {
   "cell_type": "code",
   "execution_count": 227,
   "id": "51413f8b",
   "metadata": {},
   "outputs": [
    {
     "name": "stdout",
     "output_type": "stream",
     "text": [
      "(18.5, 17.5)\n",
      "(0, 0)\n",
      "(0, 0)\n",
      "(0, 0)\n"
     ]
    }
   ],
   "source": [
    "for i in range(len(long_lat)):\n",
    "    if not (long_lat[i][0] < 93 and long_lat[i][0] > 87):\n",
    "        print(long_lat[i])"
   ]
  },
  {
   "cell_type": "code",
   "execution_count": 159,
   "id": "b2da4a91",
   "metadata": {},
   "outputs": [
    {
     "name": "stdout",
     "output_type": "stream",
     "text": [
      "(18.5, 17.5)\n",
      "(0, 0)\n",
      "(0, 0)\n",
      "(0, 0)\n"
     ]
    }
   ],
   "source": [
    "for i in range(len(long_lat)):\n",
    "    if not (long_lat[i][1] < 27 and long_lat[i][1] > 20):\n",
    "        print(long_lat[i])"
   ]
  },
  {
   "cell_type": "code",
   "execution_count": null,
   "id": "2946352c",
   "metadata": {},
   "outputs": [],
   "source": []
  }
 ],
 "metadata": {
  "kernelspec": {
   "display_name": "Python 3",
   "language": "python",
   "name": "python3"
  },
  "language_info": {
   "codemirror_mode": {
    "name": "ipython",
    "version": 3
   },
   "file_extension": ".py",
   "mimetype": "text/x-python",
   "name": "python",
   "nbconvert_exporter": "python",
   "pygments_lexer": "ipython3",
   "version": "3.8.5"
  }
 },
 "nbformat": 4,
 "nbformat_minor": 5
}
