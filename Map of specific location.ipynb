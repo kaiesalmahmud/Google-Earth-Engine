{
 "cells": [
  {
   "cell_type": "code",
   "execution_count": 3,
   "id": "c6fab148",
   "metadata": {},
   "outputs": [],
   "source": [
    "import ee\n",
    "import geemap\n",
    "import json\n",
    "import geojson\n",
    "from IPython.display import Image\n",
    "\n",
    "import os\n",
    "import pandas as pd\n",
    "import requests\n",
    "from geemap import geojson_to_ee, ee_to_geojson\n",
    "from ipyleaflet import GeoJSON, Marker, MarkerCluster"
   ]
  },
  {
   "cell_type": "code",
   "execution_count": 4,
   "id": "96f5af15",
   "metadata": {},
   "outputs": [
    {
     "data": {
      "application/vnd.jupyter.widget-view+json": {
       "model_id": "299d0b320bef469ba2f30c756ee3c466",
       "version_major": 2,
       "version_minor": 0
      },
      "text/plain": [
       "Map(center=[23.834063, 89.398476], controls=(WidgetControl(options=['position', 'transparent_bg'], widget=HBox…"
      ]
     },
     "metadata": {},
     "output_type": "display_data"
    }
   ],
   "source": [
    "Map = geemap.Map(center=[23.834063, 89.398476], zoom=7)\n",
    "Map"
   ]
  },
  {
   "cell_type": "code",
   "execution_count": 5,
   "id": "1da089b3",
   "metadata": {},
   "outputs": [],
   "source": [
    "Map.add_basemap(\"SATELLITE\")"
   ]
  },
  {
   "cell_type": "code",
   "execution_count": 6,
   "id": "130c8b20",
   "metadata": {},
   "outputs": [],
   "source": [
    "poi = ee.Geometry.Point([89.398476, 23.834063])\n",
    "poi = ee.Feature(poi)"
   ]
  },
  {
   "cell_type": "code",
   "execution_count": 7,
   "id": "91adb528",
   "metadata": {},
   "outputs": [],
   "source": [
    "Map.addLayer(poi, {'color':'Red'}, 'point')"
   ]
  },
  {
   "cell_type": "code",
   "execution_count": 8,
   "id": "1865fe7e",
   "metadata": {},
   "outputs": [],
   "source": [
    "area = Map.draw_last_feature"
   ]
  },
  {
   "cell_type": "code",
   "execution_count": 9,
   "id": "ee66a839",
   "metadata": {},
   "outputs": [
    {
     "data": {
      "text/plain": [
       "ee.feature.Feature"
      ]
     },
     "execution_count": 9,
     "metadata": {},
     "output_type": "execute_result"
    }
   ],
   "source": [
    "type(area)"
   ]
  },
  {
   "cell_type": "code",
   "execution_count": 10,
   "id": "6293eae9",
   "metadata": {},
   "outputs": [
    {
     "data": {
      "text/plain": [
       "{'type': 'Feature',\n",
       " 'geometry': {'geodesic': False,\n",
       "  'type': 'Polygon',\n",
       "  'coordinates': [[[88.918123, 23.463246],\n",
       "    [88.918123, 24.162792],\n",
       "    [89.964168, 24.162792],\n",
       "    [89.964168, 23.463246],\n",
       "    [88.918123, 23.463246]]]},\n",
       " 'properties': {}}"
      ]
     },
     "execution_count": 10,
     "metadata": {},
     "output_type": "execute_result"
    }
   ],
   "source": [
    "area.getInfo()"
   ]
  },
  {
   "cell_type": "code",
   "execution_count": 23,
   "id": "0f9775dd",
   "metadata": {},
   "outputs": [],
   "source": [
    "geo_area = ee.Geometry(area.getInfo()['geometry'])"
   ]
  },
  {
   "cell_type": "code",
   "execution_count": 24,
   "id": "4bf658e2",
   "metadata": {},
   "outputs": [
    {
     "data": {
      "text/plain": [
       "{'geodesic': False,\n",
       " 'type': 'Polygon',\n",
       " 'coordinates': [[[88.918123, 23.463246],\n",
       "   [88.918123, 24.162792],\n",
       "   [89.964168, 24.162792],\n",
       "   [89.964168, 23.463246],\n",
       "   [88.918123, 23.463246]]]}"
      ]
     },
     "execution_count": 24,
     "metadata": {},
     "output_type": "execute_result"
    }
   ],
   "source": [
    "geo_area.getInfo()"
   ]
  },
  {
   "cell_type": "code",
   "execution_count": 25,
   "id": "95536bde",
   "metadata": {},
   "outputs": [
    {
     "data": {
      "text/plain": [
       "ee.geometry.Geometry"
      ]
     },
     "execution_count": 25,
     "metadata": {},
     "output_type": "execute_result"
    }
   ],
   "source": [
    "type(geo_area)"
   ]
  },
  {
   "cell_type": "code",
   "execution_count": 26,
   "id": "a7dd5e06",
   "metadata": {},
   "outputs": [
    {
     "data": {
      "text/plain": [
       "[[[88.918123, 23.463246],\n",
       "  [88.918123, 24.162792],\n",
       "  [89.964168, 24.162792],\n",
       "  [89.964168, 23.463246],\n",
       "  [88.918123, 23.463246]]]"
      ]
     },
     "execution_count": 26,
     "metadata": {},
     "output_type": "execute_result"
    }
   ],
   "source": [
    "geo_area.getInfo()['coordinates']"
   ]
  },
  {
   "cell_type": "code",
   "execution_count": 27,
   "id": "0c92169f",
   "metadata": {},
   "outputs": [],
   "source": [
    "S2_SR = ee.ImageCollection('COPERNICUS/S2_SR').filterBounds(geo_area).filterDate('2019-01-01', '2020-01-01')"
   ]
  },
  {
   "cell_type": "code",
   "execution_count": 28,
   "id": "89bd3447",
   "metadata": {},
   "outputs": [],
   "source": [
    "def addNDVI(image):\n",
    "  ndvi = image.normalizedDifference(['B8', 'B4']).rename('NDVI')\n",
    "  return image.addBands(ndvi)"
   ]
  },
  {
   "cell_type": "code",
   "execution_count": 29,
   "id": "9db63408",
   "metadata": {},
   "outputs": [],
   "source": [
    "S2_NDVI = S2_SR.map(addNDVI)"
   ]
  },
  {
   "cell_type": "code",
   "execution_count": 30,
   "id": "d58aa8ab",
   "metadata": {},
   "outputs": [],
   "source": [
    "recent_S2 = ee.Image(S2_NDVI.sort('system:time_start', False).first())"
   ]
  },
  {
   "cell_type": "code",
   "execution_count": 31,
   "id": "ffad0188",
   "metadata": {},
   "outputs": [],
   "source": [
    "NDVIpalette = ['FFFFFF', 'CE7E45', 'DF923D', 'F1B555', 'FCD163', '99B718', '74A901', '66A000', '529400', '3E8601', '207401', '056201', '004C00', '023B01', '012E01', '011D01', '011301']"
   ]
  },
  {
   "cell_type": "code",
   "execution_count": 32,
   "id": "3882b6ed",
   "metadata": {},
   "outputs": [],
   "source": [
    "Map.addLayer(recent_S2.select('NDVI'), {'palette': NDVIpalette}, 'Recent Sentinel NDVI')"
   ]
  },
  {
   "cell_type": "code",
   "execution_count": null,
   "id": "cae050e3",
   "metadata": {},
   "outputs": [],
   "source": []
  }
 ],
 "metadata": {
  "kernelspec": {
   "display_name": "Python 3",
   "language": "python",
   "name": "python3"
  },
  "language_info": {
   "codemirror_mode": {
    "name": "ipython",
    "version": 3
   },
   "file_extension": ".py",
   "mimetype": "text/x-python",
   "name": "python",
   "nbconvert_exporter": "python",
   "pygments_lexer": "ipython3",
   "version": "3.8.5"
  }
 },
 "nbformat": 4,
 "nbformat_minor": 5
}
