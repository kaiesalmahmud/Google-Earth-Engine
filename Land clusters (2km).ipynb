{
 "cells": [
  {
   "cell_type": "code",
   "execution_count": 1,
   "id": "c4d5675b",
   "metadata": {},
   "outputs": [],
   "source": [
    "import ee\n",
    "import geemap\n",
    "import json\n",
    "import geojson\n",
    "from IPython.display import Image\n",
    "\n",
    "import os\n",
    "import pandas as pd\n",
    "import requests\n",
    "from geemap import geojson_to_ee, ee_to_geojson\n",
    "from ipyleaflet import GeoJSON, Marker, MarkerCluster"
   ]
  },
  {
   "cell_type": "code",
   "execution_count": 2,
   "id": "dd894283",
   "metadata": {},
   "outputs": [
    {
     "data": {
      "application/vnd.jupyter.widget-view+json": {
       "model_id": "4250086b9b7e4dae85a6f1bc3cfd41c0",
       "version_major": 2,
       "version_minor": 0
      },
      "text/plain": [
       "Map(center=[23.834063, 89.398476], controls=(WidgetControl(options=['position', 'transparent_bg'], widget=HBox…"
      ]
     },
     "metadata": {},
     "output_type": "display_data"
    }
   ],
   "source": [
    "Map = geemap.Map(center=[23.834063, 89.398476], zoom=7)\n",
    "Map"
   ]
  },
  {
   "cell_type": "code",
   "execution_count": 5,
   "id": "fb90bcbc",
   "metadata": {},
   "outputs": [],
   "source": [
    "file_path = os.path.abspath('Jute_longlat.json')        \n",
    "\n",
    "with open(file_path) as f:\n",
    "    points = json.load(f)"
   ]
  },
  {
   "cell_type": "code",
   "execution_count": 6,
   "id": "bbcdb73d",
   "metadata": {},
   "outputs": [],
   "source": [
    "poi_fea = []\n",
    "\n",
    "for i in range(len(points)):\n",
    "    poi_fea.append(ee.Feature(ee.Geometry.Point(points[i])))"
   ]
  },
  {
   "cell_type": "code",
   "execution_count": 7,
   "id": "4bea4c69",
   "metadata": {},
   "outputs": [],
   "source": [
    "roi = ee.FeatureCollection(poi_fea)"
   ]
  },
  {
   "cell_type": "code",
   "execution_count": 9,
   "id": "55d6f8fa",
   "metadata": {},
   "outputs": [],
   "source": [
    "vis_params = {'color': '000000ff',\n",
    "              'pointSize': 3,\n",
    "              'pointShape': 'circle',\n",
    "              'width': 2,\n",
    "              'lineType': 'solid',\n",
    "              'fillColor': '000000ff'}"
   ]
  },
  {
   "cell_type": "code",
   "execution_count": 11,
   "id": "ec3d18ac",
   "metadata": {},
   "outputs": [],
   "source": [
    "Map.addLayer(roi, vis_params, 'points')"
   ]
  },
  {
   "cell_type": "code",
   "execution_count": null,
   "id": "14acf6ae",
   "metadata": {},
   "outputs": [],
   "source": []
  }
 ],
 "metadata": {
  "kernelspec": {
   "display_name": "Python 3",
   "language": "python",
   "name": "python3"
  },
  "language_info": {
   "codemirror_mode": {
    "name": "ipython",
    "version": 3
   },
   "file_extension": ".py",
   "mimetype": "text/x-python",
   "name": "python",
   "nbconvert_exporter": "python",
   "pygments_lexer": "ipython3",
   "version": "3.8.5"
  }
 },
 "nbformat": 4,
 "nbformat_minor": 5
}
