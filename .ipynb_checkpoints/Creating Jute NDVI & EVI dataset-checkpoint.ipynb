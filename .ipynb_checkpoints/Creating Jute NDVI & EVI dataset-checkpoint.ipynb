{
 "cells": [
  {
   "cell_type": "code",
   "execution_count": 1,
   "id": "df38b093",
   "metadata": {},
   "outputs": [],
   "source": [
    "import ee\n",
    "import geemap\n",
    "import json\n",
    "import geojson\n",
    "from IPython.display import Image\n",
    "\n",
    "import os\n",
    "import pandas as pd\n",
    "import requests\n",
    "from geemap import geojson_to_ee, ee_to_geojson"
   ]
  },
  {
   "cell_type": "code",
   "execution_count": 2,
   "id": "37d8eeac",
   "metadata": {},
   "outputs": [],
   "source": [
    "#geemap.update_package()"
   ]
  },
  {
   "cell_type": "code",
   "execution_count": 3,
   "id": "09440051",
   "metadata": {
    "scrolled": true
   },
   "outputs": [
    {
     "data": {
      "application/vnd.jupyter.widget-view+json": {
       "model_id": "f0be62afac79495398e3bd199e3ac7d4",
       "version_major": 2,
       "version_minor": 0
      },
      "text/plain": [
       "Map(center=[23.834063, 89.398476], controls=(WidgetControl(options=['position', 'transparent_bg'], widget=HBox…"
      ]
     },
     "metadata": {},
     "output_type": "display_data"
    }
   ],
   "source": [
    "Map = geemap.Map(center=[23.834063, 89.398476], zoom=7)\n",
    "Map"
   ]
  },
  {
   "cell_type": "code",
   "execution_count": 4,
   "id": "0e98e409",
   "metadata": {},
   "outputs": [],
   "source": [
    "colorizedVis = {\n",
    "  'min': 0.0,\n",
    "  'max': 1.0,\n",
    "  'palette': [\n",
    "    'FFFFFF', 'CE7E45', 'DF923D', 'F1B555', 'FCD163', '99B718', '74A901',\n",
    "    '66A000', '529400', '3E8601', '207401', '056201', '004C00', '023B01',\n",
    "    '012E01', '011D01', '011301'\n",
    "  ],\n",
    "}"
   ]
  },
  {
   "cell_type": "code",
   "execution_count": 5,
   "id": "a6c02e09",
   "metadata": {},
   "outputs": [],
   "source": [
    "ndvi_dataset = ee.ImageCollection('LANDSAT/LC08/C01/T1_8DAY_NDVI').filterDate('2017-01-01', '2017-12-31')\n",
    "    \n",
    "ndvi_colorized = ndvi_dataset.select('NDVI')"
   ]
  },
  {
   "cell_type": "code",
   "execution_count": 6,
   "id": "ff8dc912",
   "metadata": {},
   "outputs": [],
   "source": [
    "Map.addLayer(ndvi_colorized, colorizedVis, 'NDVI');"
   ]
  },
  {
   "cell_type": "code",
   "execution_count": 7,
   "id": "a5ddc7ae",
   "metadata": {},
   "outputs": [],
   "source": [
    "evi_dataset = ee.ImageCollection('LANDSAT/LC08/C01/T1_8DAY_EVI').filterDate('2017-01-01', '2017-12-31')\n",
    "evi_colorized = evi_dataset.select('EVI')"
   ]
  },
  {
   "cell_type": "code",
   "execution_count": 8,
   "id": "2577c003",
   "metadata": {},
   "outputs": [],
   "source": [
    "Map.addLayer(evi_colorized, colorizedVis, 'EVI');"
   ]
  },
  {
   "cell_type": "code",
   "execution_count": 9,
   "id": "3fe46aa1",
   "metadata": {},
   "outputs": [],
   "source": [
    "file_path = os.path.abspath('Jute_longlat.json')        \n",
    "\n",
    "with open(file_path) as f:\n",
    "    long_lat = json.load(f)"
   ]
  },
  {
   "cell_type": "code",
   "execution_count": 10,
   "id": "818c09cb",
   "metadata": {},
   "outputs": [
    {
     "data": {
      "text/plain": [
       "493"
      ]
     },
     "execution_count": 10,
     "metadata": {},
     "output_type": "execute_result"
    }
   ],
   "source": [
    "len(long_lat)"
   ]
  },
  {
   "cell_type": "code",
   "execution_count": 11,
   "id": "dbadd878",
   "metadata": {},
   "outputs": [],
   "source": [
    "for i in range(len(long_lat)):\n",
    "    if not (long_lat[i][0] < 93 and long_lat[i][0] > 87):\n",
    "        print(long_lat[i])"
   ]
  },
  {
   "cell_type": "code",
   "execution_count": 12,
   "id": "bb7ad1b1",
   "metadata": {},
   "outputs": [],
   "source": [
    "for i in range(len(long_lat)):\n",
    "    if not (long_lat[i][1] < 27 and long_lat[i][1] > 20):\n",
    "        print(long_lat[i])"
   ]
  },
  {
   "cell_type": "code",
   "execution_count": 13,
   "id": "514fce31",
   "metadata": {},
   "outputs": [],
   "source": [
    "points = long_lat"
   ]
  },
  {
   "cell_type": "code",
   "execution_count": 14,
   "id": "5f6d190b",
   "metadata": {},
   "outputs": [],
   "source": [
    "poi_fea = []\n",
    "\n",
    "for i in range(len(points)):\n",
    "    poi_fea.append(ee.Feature(ee.Geometry.Point(points[i])))"
   ]
  },
  {
   "cell_type": "code",
   "execution_count": 15,
   "id": "7c7a7d59",
   "metadata": {},
   "outputs": [
    {
     "data": {
      "text/plain": [
       "ee.feature.Feature"
      ]
     },
     "execution_count": 15,
     "metadata": {},
     "output_type": "execute_result"
    }
   ],
   "source": [
    "type(poi_fea[0])"
   ]
  },
  {
   "cell_type": "code",
   "execution_count": 16,
   "id": "2c4c2cc1",
   "metadata": {},
   "outputs": [
    {
     "data": {
      "text/plain": [
       "ee.featurecollection.FeatureCollection"
      ]
     },
     "execution_count": 16,
     "metadata": {},
     "output_type": "execute_result"
    }
   ],
   "source": [
    "roi = ee.FeatureCollection(poi_fea)\n",
    "type(roi)"
   ]
  },
  {
   "cell_type": "code",
   "execution_count": 17,
   "id": "a28b3df8",
   "metadata": {},
   "outputs": [
    {
     "name": "stdout",
     "output_type": "stream",
     "text": [
      "Computing statistics ...\n",
      "Generating URL ...\n",
      "Downloading data from https://earthengine.googleapis.com/v1alpha/projects/earthengine-legacy/tables/2a9a1d8028204643f3be935eaa81f8a7-cd06361b1dc3b1674253bf58e6cc382e:getFeatures\n",
      "Please wait ...\n",
      "Data downloaded to C:\\Users\\kaies\\Downloads\\Jute_points_ndvi_mean_2017_30.csv\n"
     ]
    }
   ],
   "source": [
    "out_dir = os.path.join(os.path.expanduser('~'), 'Downloads')\n",
    "out_dem_stats = os.path.join(out_dir, 'Jute_points_ndvi_mean_2017_30.csv')  \n",
    "\n",
    "if not os.path.exists(out_dir):\n",
    "    os.makedirs(out_dir)\n",
    "\n",
    "# Allowed output formats: csv, shp, json, kml, kmz\n",
    "# Allowed statistics type: MEAN, MAXIMUM, MINIMUM, MEDIAN, STD, MIN_MAX, VARIANCE, SUM\n",
    "geemap.zonal_statistics(ndvi_colorized, roi, out_dem_stats, statistics_type='MEAN', scale=30)"
   ]
  },
  {
   "cell_type": "code",
   "execution_count": 18,
   "id": "ad9836bb",
   "metadata": {},
   "outputs": [
    {
     "name": "stdout",
     "output_type": "stream",
     "text": [
      "Computing statistics ...\n",
      "Generating URL ...\n",
      "Downloading data from https://earthengine.googleapis.com/v1alpha/projects/earthengine-legacy/tables/8e7e66efdbb8c2c9ba8fbee0a71c6837-d61f5278394ac9a125c590bcabb0245b:getFeatures\n",
      "Please wait ...\n",
      "Data downloaded to C:\\Users\\kaies\\Downloads\\Jute_points_evi_mean_2017_30.csv\n"
     ]
    }
   ],
   "source": [
    "out_dir = os.path.join(os.path.expanduser('~'), 'Downloads')\n",
    "out_dem_stats = os.path.join(out_dir, 'Jute_points_evi_mean_2017_30.csv')  \n",
    "\n",
    "if not os.path.exists(out_dir):\n",
    "    os.makedirs(out_dir)\n",
    "\n",
    "# Allowed output formats: csv, shp, json, kml, kmz\n",
    "# Allowed statistics type: MEAN, MAXIMUM, MINIMUM, MEDIAN, STD, MIN_MAX, VARIANCE, SUM\n",
    "geemap.zonal_statistics(evi_colorized, roi, out_dem_stats, statistics_type='MEAN', scale=30)"
   ]
  },
  {
   "cell_type": "code",
   "execution_count": null,
   "id": "58fb420f",
   "metadata": {},
   "outputs": [],
   "source": []
  }
 ],
 "metadata": {
  "kernelspec": {
   "display_name": "Python 3",
   "language": "python",
   "name": "python3"
  },
  "language_info": {
   "codemirror_mode": {
    "name": "ipython",
    "version": 3
   },
   "file_extension": ".py",
   "mimetype": "text/x-python",
   "name": "python",
   "nbconvert_exporter": "python",
   "pygments_lexer": "ipython3",
   "version": "3.8.5"
  }
 },
 "nbformat": 4,
 "nbformat_minor": 5
}
